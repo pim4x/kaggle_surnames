{
  "nbformat": 4,
  "nbformat_minor": 0,
  "metadata": {
    "kernelspec": {
      "display_name": "Python 3",
      "language": "python",
      "name": "python3"
    },
    "language_info": {
      "codemirror_mode": {
        "name": "ipython",
        "version": 3
      },
      "file_extension": ".py",
      "mimetype": "text/x-python",
      "name": "python",
      "nbconvert_exporter": "python",
      "pygments_lexer": "ipython3",
      "version": "3.7.3"
    },
    "toc": {
      "base_numbering": 1,
      "nav_menu": {},
      "number_sections": true,
      "sideBar": true,
      "skip_h1_title": false,
      "title_cell": "Table of Contents",
      "title_sidebar": "Contents",
      "toc_cell": false,
      "toc_position": {},
      "toc_section_display": true,
      "toc_window_display": false
    },
    "colab": {
      "name": "w2v_2.ipynb",
      "provenance": [],
      "toc_visible": true
    },
    "widgets": {
      "application/vnd.jupyter.widget-state+json": {
        "7ee25c2c8dc14dc5802d9140c1b77a69": {
          "model_module": "@jupyter-widgets/controls",
          "model_name": "HBoxModel",
          "state": {
            "_view_name": "HBoxView",
            "_dom_classes": [],
            "_model_name": "HBoxModel",
            "_view_module": "@jupyter-widgets/controls",
            "_model_module_version": "1.5.0",
            "_view_count": null,
            "_view_module_version": "1.5.0",
            "box_style": "",
            "layout": "IPY_MODEL_f7dceb40c8d04219a83bbac1d9d84cf1",
            "_model_module": "@jupyter-widgets/controls",
            "children": [
              "IPY_MODEL_adb58b7e1955472f9dcb2ddbe48143aa",
              "IPY_MODEL_03131e2b23414e8f8ead1b56673bdf03"
            ]
          }
        },
        "f7dceb40c8d04219a83bbac1d9d84cf1": {
          "model_module": "@jupyter-widgets/base",
          "model_name": "LayoutModel",
          "state": {
            "_view_name": "LayoutView",
            "grid_template_rows": null,
            "right": null,
            "justify_content": null,
            "_view_module": "@jupyter-widgets/base",
            "overflow": null,
            "_model_module_version": "1.2.0",
            "_view_count": null,
            "flex_flow": null,
            "width": null,
            "min_width": null,
            "border": null,
            "align_items": null,
            "bottom": null,
            "_model_module": "@jupyter-widgets/base",
            "top": null,
            "grid_column": null,
            "overflow_y": null,
            "overflow_x": null,
            "grid_auto_flow": null,
            "grid_area": null,
            "grid_template_columns": null,
            "flex": null,
            "_model_name": "LayoutModel",
            "justify_items": null,
            "grid_row": null,
            "max_height": null,
            "align_content": null,
            "visibility": null,
            "align_self": null,
            "height": null,
            "min_height": null,
            "padding": null,
            "grid_auto_rows": null,
            "grid_gap": null,
            "max_width": null,
            "order": null,
            "_view_module_version": "1.2.0",
            "grid_template_areas": null,
            "object_position": null,
            "object_fit": null,
            "grid_auto_columns": null,
            "margin": null,
            "display": null,
            "left": null
          }
        },
        "adb58b7e1955472f9dcb2ddbe48143aa": {
          "model_module": "@jupyter-widgets/controls",
          "model_name": "IntProgressModel",
          "state": {
            "_view_name": "ProgressView",
            "style": "IPY_MODEL_2bfaa35dc58f4e758ea2b71076a668b0",
            "_dom_classes": [],
            "description": "100%",
            "_model_name": "IntProgressModel",
            "bar_style": "success",
            "max": 19,
            "_view_module": "@jupyter-widgets/controls",
            "_model_module_version": "1.5.0",
            "value": 19,
            "_view_count": null,
            "_view_module_version": "1.5.0",
            "orientation": "horizontal",
            "min": 0,
            "description_tooltip": null,
            "_model_module": "@jupyter-widgets/controls",
            "layout": "IPY_MODEL_8f55732720ee4bcc8ac92c8612b644e8"
          }
        },
        "03131e2b23414e8f8ead1b56673bdf03": {
          "model_module": "@jupyter-widgets/controls",
          "model_name": "HTMLModel",
          "state": {
            "_view_name": "HTMLView",
            "style": "IPY_MODEL_51420aed3fa8411082534f0304291a66",
            "_dom_classes": [],
            "description": "",
            "_model_name": "HTMLModel",
            "placeholder": "​",
            "_view_module": "@jupyter-widgets/controls",
            "_model_module_version": "1.5.0",
            "value": " 19/19 [00:02&lt;00:00,  7.32it/s]",
            "_view_count": null,
            "_view_module_version": "1.5.0",
            "description_tooltip": null,
            "_model_module": "@jupyter-widgets/controls",
            "layout": "IPY_MODEL_eecfef3f670642fb9c1a5df45e5bbad0"
          }
        },
        "2bfaa35dc58f4e758ea2b71076a668b0": {
          "model_module": "@jupyter-widgets/controls",
          "model_name": "ProgressStyleModel",
          "state": {
            "_view_name": "StyleView",
            "_model_name": "ProgressStyleModel",
            "description_width": "initial",
            "_view_module": "@jupyter-widgets/base",
            "_model_module_version": "1.5.0",
            "_view_count": null,
            "_view_module_version": "1.2.0",
            "bar_color": null,
            "_model_module": "@jupyter-widgets/controls"
          }
        },
        "8f55732720ee4bcc8ac92c8612b644e8": {
          "model_module": "@jupyter-widgets/base",
          "model_name": "LayoutModel",
          "state": {
            "_view_name": "LayoutView",
            "grid_template_rows": null,
            "right": null,
            "justify_content": null,
            "_view_module": "@jupyter-widgets/base",
            "overflow": null,
            "_model_module_version": "1.2.0",
            "_view_count": null,
            "flex_flow": null,
            "width": null,
            "min_width": null,
            "border": null,
            "align_items": null,
            "bottom": null,
            "_model_module": "@jupyter-widgets/base",
            "top": null,
            "grid_column": null,
            "overflow_y": null,
            "overflow_x": null,
            "grid_auto_flow": null,
            "grid_area": null,
            "grid_template_columns": null,
            "flex": null,
            "_model_name": "LayoutModel",
            "justify_items": null,
            "grid_row": null,
            "max_height": null,
            "align_content": null,
            "visibility": null,
            "align_self": null,
            "height": null,
            "min_height": null,
            "padding": null,
            "grid_auto_rows": null,
            "grid_gap": null,
            "max_width": null,
            "order": null,
            "_view_module_version": "1.2.0",
            "grid_template_areas": null,
            "object_position": null,
            "object_fit": null,
            "grid_auto_columns": null,
            "margin": null,
            "display": null,
            "left": null
          }
        },
        "51420aed3fa8411082534f0304291a66": {
          "model_module": "@jupyter-widgets/controls",
          "model_name": "DescriptionStyleModel",
          "state": {
            "_view_name": "StyleView",
            "_model_name": "DescriptionStyleModel",
            "description_width": "",
            "_view_module": "@jupyter-widgets/base",
            "_model_module_version": "1.5.0",
            "_view_count": null,
            "_view_module_version": "1.2.0",
            "_model_module": "@jupyter-widgets/controls"
          }
        },
        "eecfef3f670642fb9c1a5df45e5bbad0": {
          "model_module": "@jupyter-widgets/base",
          "model_name": "LayoutModel",
          "state": {
            "_view_name": "LayoutView",
            "grid_template_rows": null,
            "right": null,
            "justify_content": null,
            "_view_module": "@jupyter-widgets/base",
            "overflow": null,
            "_model_module_version": "1.2.0",
            "_view_count": null,
            "flex_flow": null,
            "width": null,
            "min_width": null,
            "border": null,
            "align_items": null,
            "bottom": null,
            "_model_module": "@jupyter-widgets/base",
            "top": null,
            "grid_column": null,
            "overflow_y": null,
            "overflow_x": null,
            "grid_auto_flow": null,
            "grid_area": null,
            "grid_template_columns": null,
            "flex": null,
            "_model_name": "LayoutModel",
            "justify_items": null,
            "grid_row": null,
            "max_height": null,
            "align_content": null,
            "visibility": null,
            "align_self": null,
            "height": null,
            "min_height": null,
            "padding": null,
            "grid_auto_rows": null,
            "grid_gap": null,
            "max_width": null,
            "order": null,
            "_view_module_version": "1.2.0",
            "grid_template_areas": null,
            "object_position": null,
            "object_fit": null,
            "grid_auto_columns": null,
            "margin": null,
            "display": null,
            "left": null
          }
        },
        "bf50a68a9e04454d935fe3431345f726": {
          "model_module": "@jupyter-widgets/controls",
          "model_name": "HBoxModel",
          "state": {
            "_view_name": "HBoxView",
            "_dom_classes": [],
            "_model_name": "HBoxModel",
            "_view_module": "@jupyter-widgets/controls",
            "_model_module_version": "1.5.0",
            "_view_count": null,
            "_view_module_version": "1.5.0",
            "box_style": "",
            "layout": "IPY_MODEL_babbf582e3f046eab30096d4601142ac",
            "_model_module": "@jupyter-widgets/controls",
            "children": [
              "IPY_MODEL_645230956a154c53a735a5de14604ed6",
              "IPY_MODEL_0553f1d1dbe44166a5c035b43da5cc1e"
            ]
          }
        },
        "babbf582e3f046eab30096d4601142ac": {
          "model_module": "@jupyter-widgets/base",
          "model_name": "LayoutModel",
          "state": {
            "_view_name": "LayoutView",
            "grid_template_rows": null,
            "right": null,
            "justify_content": null,
            "_view_module": "@jupyter-widgets/base",
            "overflow": null,
            "_model_module_version": "1.2.0",
            "_view_count": null,
            "flex_flow": null,
            "width": null,
            "min_width": null,
            "border": null,
            "align_items": null,
            "bottom": null,
            "_model_module": "@jupyter-widgets/base",
            "top": null,
            "grid_column": null,
            "overflow_y": null,
            "overflow_x": null,
            "grid_auto_flow": null,
            "grid_area": null,
            "grid_template_columns": null,
            "flex": null,
            "_model_name": "LayoutModel",
            "justify_items": null,
            "grid_row": null,
            "max_height": null,
            "align_content": null,
            "visibility": null,
            "align_self": null,
            "height": null,
            "min_height": null,
            "padding": null,
            "grid_auto_rows": null,
            "grid_gap": null,
            "max_width": null,
            "order": null,
            "_view_module_version": "1.2.0",
            "grid_template_areas": null,
            "object_position": null,
            "object_fit": null,
            "grid_auto_columns": null,
            "margin": null,
            "display": null,
            "left": null
          }
        },
        "645230956a154c53a735a5de14604ed6": {
          "model_module": "@jupyter-widgets/controls",
          "model_name": "IntProgressModel",
          "state": {
            "_view_name": "ProgressView",
            "style": "IPY_MODEL_c03bf9d9c62346d58d8719f2e9616885",
            "_dom_classes": [],
            "description": "100%",
            "_model_name": "IntProgressModel",
            "bar_style": "success",
            "max": 33,
            "_view_module": "@jupyter-widgets/controls",
            "_model_module_version": "1.5.0",
            "value": 33,
            "_view_count": null,
            "_view_module_version": "1.5.0",
            "orientation": "horizontal",
            "min": 0,
            "description_tooltip": null,
            "_model_module": "@jupyter-widgets/controls",
            "layout": "IPY_MODEL_af61773eed4b4b1e9e76b4c56e01e18c"
          }
        },
        "0553f1d1dbe44166a5c035b43da5cc1e": {
          "model_module": "@jupyter-widgets/controls",
          "model_name": "HTMLModel",
          "state": {
            "_view_name": "HTMLView",
            "style": "IPY_MODEL_bef062c94e5b4018b2896bf948604579",
            "_dom_classes": [],
            "description": "",
            "_model_name": "HTMLModel",
            "placeholder": "​",
            "_view_module": "@jupyter-widgets/controls",
            "_model_module_version": "1.5.0",
            "value": " 33/33 [00:09&lt;00:00,  3.64it/s]",
            "_view_count": null,
            "_view_module_version": "1.5.0",
            "description_tooltip": null,
            "_model_module": "@jupyter-widgets/controls",
            "layout": "IPY_MODEL_36c2679fc5ac4f8d874bc98e6fbc8e5a"
          }
        },
        "c03bf9d9c62346d58d8719f2e9616885": {
          "model_module": "@jupyter-widgets/controls",
          "model_name": "ProgressStyleModel",
          "state": {
            "_view_name": "StyleView",
            "_model_name": "ProgressStyleModel",
            "description_width": "initial",
            "_view_module": "@jupyter-widgets/base",
            "_model_module_version": "1.5.0",
            "_view_count": null,
            "_view_module_version": "1.2.0",
            "bar_color": null,
            "_model_module": "@jupyter-widgets/controls"
          }
        },
        "af61773eed4b4b1e9e76b4c56e01e18c": {
          "model_module": "@jupyter-widgets/base",
          "model_name": "LayoutModel",
          "state": {
            "_view_name": "LayoutView",
            "grid_template_rows": null,
            "right": null,
            "justify_content": null,
            "_view_module": "@jupyter-widgets/base",
            "overflow": null,
            "_model_module_version": "1.2.0",
            "_view_count": null,
            "flex_flow": null,
            "width": null,
            "min_width": null,
            "border": null,
            "align_items": null,
            "bottom": null,
            "_model_module": "@jupyter-widgets/base",
            "top": null,
            "grid_column": null,
            "overflow_y": null,
            "overflow_x": null,
            "grid_auto_flow": null,
            "grid_area": null,
            "grid_template_columns": null,
            "flex": null,
            "_model_name": "LayoutModel",
            "justify_items": null,
            "grid_row": null,
            "max_height": null,
            "align_content": null,
            "visibility": null,
            "align_self": null,
            "height": null,
            "min_height": null,
            "padding": null,
            "grid_auto_rows": null,
            "grid_gap": null,
            "max_width": null,
            "order": null,
            "_view_module_version": "1.2.0",
            "grid_template_areas": null,
            "object_position": null,
            "object_fit": null,
            "grid_auto_columns": null,
            "margin": null,
            "display": null,
            "left": null
          }
        },
        "bef062c94e5b4018b2896bf948604579": {
          "model_module": "@jupyter-widgets/controls",
          "model_name": "DescriptionStyleModel",
          "state": {
            "_view_name": "StyleView",
            "_model_name": "DescriptionStyleModel",
            "description_width": "",
            "_view_module": "@jupyter-widgets/base",
            "_model_module_version": "1.5.0",
            "_view_count": null,
            "_view_module_version": "1.2.0",
            "_model_module": "@jupyter-widgets/controls"
          }
        },
        "36c2679fc5ac4f8d874bc98e6fbc8e5a": {
          "model_module": "@jupyter-widgets/base",
          "model_name": "LayoutModel",
          "state": {
            "_view_name": "LayoutView",
            "grid_template_rows": null,
            "right": null,
            "justify_content": null,
            "_view_module": "@jupyter-widgets/base",
            "overflow": null,
            "_model_module_version": "1.2.0",
            "_view_count": null,
            "flex_flow": null,
            "width": null,
            "min_width": null,
            "border": null,
            "align_items": null,
            "bottom": null,
            "_model_module": "@jupyter-widgets/base",
            "top": null,
            "grid_column": null,
            "overflow_y": null,
            "overflow_x": null,
            "grid_auto_flow": null,
            "grid_area": null,
            "grid_template_columns": null,
            "flex": null,
            "_model_name": "LayoutModel",
            "justify_items": null,
            "grid_row": null,
            "max_height": null,
            "align_content": null,
            "visibility": null,
            "align_self": null,
            "height": null,
            "min_height": null,
            "padding": null,
            "grid_auto_rows": null,
            "grid_gap": null,
            "max_width": null,
            "order": null,
            "_view_module_version": "1.2.0",
            "grid_template_areas": null,
            "object_position": null,
            "object_fit": null,
            "grid_auto_columns": null,
            "margin": null,
            "display": null,
            "left": null
          }
        },
        "5a2307da5e9e45cca7af0d7c4ab321fd": {
          "model_module": "@jupyter-widgets/controls",
          "model_name": "HBoxModel",
          "state": {
            "_view_name": "HBoxView",
            "_dom_classes": [],
            "_model_name": "HBoxModel",
            "_view_module": "@jupyter-widgets/controls",
            "_model_module_version": "1.5.0",
            "_view_count": null,
            "_view_module_version": "1.5.0",
            "box_style": "",
            "layout": "IPY_MODEL_a1e5bb49f28b405489bb380e5c80f502",
            "_model_module": "@jupyter-widgets/controls",
            "children": [
              "IPY_MODEL_89cfb34a46634dadbbf82d56315a3e5f",
              "IPY_MODEL_9ca6ffe58bd14c4fa8d0f49048d9d3b3"
            ]
          }
        },
        "a1e5bb49f28b405489bb380e5c80f502": {
          "model_module": "@jupyter-widgets/base",
          "model_name": "LayoutModel",
          "state": {
            "_view_name": "LayoutView",
            "grid_template_rows": null,
            "right": null,
            "justify_content": null,
            "_view_module": "@jupyter-widgets/base",
            "overflow": null,
            "_model_module_version": "1.2.0",
            "_view_count": null,
            "flex_flow": null,
            "width": null,
            "min_width": null,
            "border": null,
            "align_items": null,
            "bottom": null,
            "_model_module": "@jupyter-widgets/base",
            "top": null,
            "grid_column": null,
            "overflow_y": null,
            "overflow_x": null,
            "grid_auto_flow": null,
            "grid_area": null,
            "grid_template_columns": null,
            "flex": null,
            "_model_name": "LayoutModel",
            "justify_items": null,
            "grid_row": null,
            "max_height": null,
            "align_content": null,
            "visibility": null,
            "align_self": null,
            "height": null,
            "min_height": null,
            "padding": null,
            "grid_auto_rows": null,
            "grid_gap": null,
            "max_width": null,
            "order": null,
            "_view_module_version": "1.2.0",
            "grid_template_areas": null,
            "object_position": null,
            "object_fit": null,
            "grid_auto_columns": null,
            "margin": null,
            "display": null,
            "left": null
          }
        },
        "89cfb34a46634dadbbf82d56315a3e5f": {
          "model_module": "@jupyter-widgets/controls",
          "model_name": "IntProgressModel",
          "state": {
            "_view_name": "ProgressView",
            "style": "IPY_MODEL_e0af32e933194af19cc2197fa60dc1c5",
            "_dom_classes": [],
            "description": "100%",
            "_model_name": "IntProgressModel",
            "bar_style": "success",
            "max": 2,
            "_view_module": "@jupyter-widgets/controls",
            "_model_module_version": "1.5.0",
            "value": 2,
            "_view_count": null,
            "_view_module_version": "1.5.0",
            "orientation": "horizontal",
            "min": 0,
            "description_tooltip": null,
            "_model_module": "@jupyter-widgets/controls",
            "layout": "IPY_MODEL_7da9e97b3756493085dd9211d0b08349"
          }
        },
        "9ca6ffe58bd14c4fa8d0f49048d9d3b3": {
          "model_module": "@jupyter-widgets/controls",
          "model_name": "HTMLModel",
          "state": {
            "_view_name": "HTMLView",
            "style": "IPY_MODEL_8552912a431343f481fb33db6f32eb0f",
            "_dom_classes": [],
            "description": "",
            "_model_name": "HTMLModel",
            "placeholder": "​",
            "_view_module": "@jupyter-widgets/controls",
            "_model_module_version": "1.5.0",
            "value": " 2/2 [00:08&lt;00:00,  4.49s/it]",
            "_view_count": null,
            "_view_module_version": "1.5.0",
            "description_tooltip": null,
            "_model_module": "@jupyter-widgets/controls",
            "layout": "IPY_MODEL_d055d692f4c847d6b7188801dba135f0"
          }
        },
        "e0af32e933194af19cc2197fa60dc1c5": {
          "model_module": "@jupyter-widgets/controls",
          "model_name": "ProgressStyleModel",
          "state": {
            "_view_name": "StyleView",
            "_model_name": "ProgressStyleModel",
            "description_width": "initial",
            "_view_module": "@jupyter-widgets/base",
            "_model_module_version": "1.5.0",
            "_view_count": null,
            "_view_module_version": "1.2.0",
            "bar_color": null,
            "_model_module": "@jupyter-widgets/controls"
          }
        },
        "7da9e97b3756493085dd9211d0b08349": {
          "model_module": "@jupyter-widgets/base",
          "model_name": "LayoutModel",
          "state": {
            "_view_name": "LayoutView",
            "grid_template_rows": null,
            "right": null,
            "justify_content": null,
            "_view_module": "@jupyter-widgets/base",
            "overflow": null,
            "_model_module_version": "1.2.0",
            "_view_count": null,
            "flex_flow": null,
            "width": null,
            "min_width": null,
            "border": null,
            "align_items": null,
            "bottom": null,
            "_model_module": "@jupyter-widgets/base",
            "top": null,
            "grid_column": null,
            "overflow_y": null,
            "overflow_x": null,
            "grid_auto_flow": null,
            "grid_area": null,
            "grid_template_columns": null,
            "flex": null,
            "_model_name": "LayoutModel",
            "justify_items": null,
            "grid_row": null,
            "max_height": null,
            "align_content": null,
            "visibility": null,
            "align_self": null,
            "height": null,
            "min_height": null,
            "padding": null,
            "grid_auto_rows": null,
            "grid_gap": null,
            "max_width": null,
            "order": null,
            "_view_module_version": "1.2.0",
            "grid_template_areas": null,
            "object_position": null,
            "object_fit": null,
            "grid_auto_columns": null,
            "margin": null,
            "display": null,
            "left": null
          }
        },
        "8552912a431343f481fb33db6f32eb0f": {
          "model_module": "@jupyter-widgets/controls",
          "model_name": "DescriptionStyleModel",
          "state": {
            "_view_name": "StyleView",
            "_model_name": "DescriptionStyleModel",
            "description_width": "",
            "_view_module": "@jupyter-widgets/base",
            "_model_module_version": "1.5.0",
            "_view_count": null,
            "_view_module_version": "1.2.0",
            "_model_module": "@jupyter-widgets/controls"
          }
        },
        "d055d692f4c847d6b7188801dba135f0": {
          "model_module": "@jupyter-widgets/base",
          "model_name": "LayoutModel",
          "state": {
            "_view_name": "LayoutView",
            "grid_template_rows": null,
            "right": null,
            "justify_content": null,
            "_view_module": "@jupyter-widgets/base",
            "overflow": null,
            "_model_module_version": "1.2.0",
            "_view_count": null,
            "flex_flow": null,
            "width": null,
            "min_width": null,
            "border": null,
            "align_items": null,
            "bottom": null,
            "_model_module": "@jupyter-widgets/base",
            "top": null,
            "grid_column": null,
            "overflow_y": null,
            "overflow_x": null,
            "grid_auto_flow": null,
            "grid_area": null,
            "grid_template_columns": null,
            "flex": null,
            "_model_name": "LayoutModel",
            "justify_items": null,
            "grid_row": null,
            "max_height": null,
            "align_content": null,
            "visibility": null,
            "align_self": null,
            "height": null,
            "min_height": null,
            "padding": null,
            "grid_auto_rows": null,
            "grid_gap": null,
            "max_width": null,
            "order": null,
            "_view_module_version": "1.2.0",
            "grid_template_areas": null,
            "object_position": null,
            "object_fit": null,
            "grid_auto_columns": null,
            "margin": null,
            "display": null,
            "left": null
          }
        },
        "7d7db37d5dae4598b6fb32138241c829": {
          "model_module": "@jupyter-widgets/controls",
          "model_name": "HBoxModel",
          "state": {
            "_view_name": "HBoxView",
            "_dom_classes": [],
            "_model_name": "HBoxModel",
            "_view_module": "@jupyter-widgets/controls",
            "_model_module_version": "1.5.0",
            "_view_count": null,
            "_view_module_version": "1.5.0",
            "box_style": "",
            "layout": "IPY_MODEL_51fc9c22380843f8bd34d03c0fa96635",
            "_model_module": "@jupyter-widgets/controls",
            "children": [
              "IPY_MODEL_db0f68ee0a2b469eb973bac8e2caac59",
              "IPY_MODEL_ced01a4634284810b412b82891f4581c"
            ]
          }
        },
        "51fc9c22380843f8bd34d03c0fa96635": {
          "model_module": "@jupyter-widgets/base",
          "model_name": "LayoutModel",
          "state": {
            "_view_name": "LayoutView",
            "grid_template_rows": null,
            "right": null,
            "justify_content": null,
            "_view_module": "@jupyter-widgets/base",
            "overflow": null,
            "_model_module_version": "1.2.0",
            "_view_count": null,
            "flex_flow": null,
            "width": null,
            "min_width": null,
            "border": null,
            "align_items": null,
            "bottom": null,
            "_model_module": "@jupyter-widgets/base",
            "top": null,
            "grid_column": null,
            "overflow_y": null,
            "overflow_x": null,
            "grid_auto_flow": null,
            "grid_area": null,
            "grid_template_columns": null,
            "flex": null,
            "_model_name": "LayoutModel",
            "justify_items": null,
            "grid_row": null,
            "max_height": null,
            "align_content": null,
            "visibility": null,
            "align_self": null,
            "height": null,
            "min_height": null,
            "padding": null,
            "grid_auto_rows": null,
            "grid_gap": null,
            "max_width": null,
            "order": null,
            "_view_module_version": "1.2.0",
            "grid_template_areas": null,
            "object_position": null,
            "object_fit": null,
            "grid_auto_columns": null,
            "margin": null,
            "display": null,
            "left": null
          }
        },
        "db0f68ee0a2b469eb973bac8e2caac59": {
          "model_module": "@jupyter-widgets/controls",
          "model_name": "IntProgressModel",
          "state": {
            "_view_name": "ProgressView",
            "style": "IPY_MODEL_42d01f6f11784f6b9960f9116018a047",
            "_dom_classes": [],
            "description": "100%",
            "_model_name": "IntProgressModel",
            "bar_style": "success",
            "max": 8,
            "_view_module": "@jupyter-widgets/controls",
            "_model_module_version": "1.5.0",
            "value": 8,
            "_view_count": null,
            "_view_module_version": "1.5.0",
            "orientation": "horizontal",
            "min": 0,
            "description_tooltip": null,
            "_model_module": "@jupyter-widgets/controls",
            "layout": "IPY_MODEL_f9c8615fec8b4ea0a7fdbf25fc373627"
          }
        },
        "ced01a4634284810b412b82891f4581c": {
          "model_module": "@jupyter-widgets/controls",
          "model_name": "HTMLModel",
          "state": {
            "_view_name": "HTMLView",
            "style": "IPY_MODEL_0eb005a362b9467abe7bf398681f1900",
            "_dom_classes": [],
            "description": "",
            "_model_name": "HTMLModel",
            "placeholder": "​",
            "_view_module": "@jupyter-widgets/controls",
            "_model_module_version": "1.5.0",
            "value": " 8/8 [00:02&lt;00:00,  2.89it/s]",
            "_view_count": null,
            "_view_module_version": "1.5.0",
            "description_tooltip": null,
            "_model_module": "@jupyter-widgets/controls",
            "layout": "IPY_MODEL_bb38fc4494d747c3a10aeccb4e6ad226"
          }
        },
        "42d01f6f11784f6b9960f9116018a047": {
          "model_module": "@jupyter-widgets/controls",
          "model_name": "ProgressStyleModel",
          "state": {
            "_view_name": "StyleView",
            "_model_name": "ProgressStyleModel",
            "description_width": "initial",
            "_view_module": "@jupyter-widgets/base",
            "_model_module_version": "1.5.0",
            "_view_count": null,
            "_view_module_version": "1.2.0",
            "bar_color": null,
            "_model_module": "@jupyter-widgets/controls"
          }
        },
        "f9c8615fec8b4ea0a7fdbf25fc373627": {
          "model_module": "@jupyter-widgets/base",
          "model_name": "LayoutModel",
          "state": {
            "_view_name": "LayoutView",
            "grid_template_rows": null,
            "right": null,
            "justify_content": null,
            "_view_module": "@jupyter-widgets/base",
            "overflow": null,
            "_model_module_version": "1.2.0",
            "_view_count": null,
            "flex_flow": null,
            "width": null,
            "min_width": null,
            "border": null,
            "align_items": null,
            "bottom": null,
            "_model_module": "@jupyter-widgets/base",
            "top": null,
            "grid_column": null,
            "overflow_y": null,
            "overflow_x": null,
            "grid_auto_flow": null,
            "grid_area": null,
            "grid_template_columns": null,
            "flex": null,
            "_model_name": "LayoutModel",
            "justify_items": null,
            "grid_row": null,
            "max_height": null,
            "align_content": null,
            "visibility": null,
            "align_self": null,
            "height": null,
            "min_height": null,
            "padding": null,
            "grid_auto_rows": null,
            "grid_gap": null,
            "max_width": null,
            "order": null,
            "_view_module_version": "1.2.0",
            "grid_template_areas": null,
            "object_position": null,
            "object_fit": null,
            "grid_auto_columns": null,
            "margin": null,
            "display": null,
            "left": null
          }
        },
        "0eb005a362b9467abe7bf398681f1900": {
          "model_module": "@jupyter-widgets/controls",
          "model_name": "DescriptionStyleModel",
          "state": {
            "_view_name": "StyleView",
            "_model_name": "DescriptionStyleModel",
            "description_width": "",
            "_view_module": "@jupyter-widgets/base",
            "_model_module_version": "1.5.0",
            "_view_count": null,
            "_view_module_version": "1.2.0",
            "_model_module": "@jupyter-widgets/controls"
          }
        },
        "bb38fc4494d747c3a10aeccb4e6ad226": {
          "model_module": "@jupyter-widgets/base",
          "model_name": "LayoutModel",
          "state": {
            "_view_name": "LayoutView",
            "grid_template_rows": null,
            "right": null,
            "justify_content": null,
            "_view_module": "@jupyter-widgets/base",
            "overflow": null,
            "_model_module_version": "1.2.0",
            "_view_count": null,
            "flex_flow": null,
            "width": null,
            "min_width": null,
            "border": null,
            "align_items": null,
            "bottom": null,
            "_model_module": "@jupyter-widgets/base",
            "top": null,
            "grid_column": null,
            "overflow_y": null,
            "overflow_x": null,
            "grid_auto_flow": null,
            "grid_area": null,
            "grid_template_columns": null,
            "flex": null,
            "_model_name": "LayoutModel",
            "justify_items": null,
            "grid_row": null,
            "max_height": null,
            "align_content": null,
            "visibility": null,
            "align_self": null,
            "height": null,
            "min_height": null,
            "padding": null,
            "grid_auto_rows": null,
            "grid_gap": null,
            "max_width": null,
            "order": null,
            "_view_module_version": "1.2.0",
            "grid_template_areas": null,
            "object_position": null,
            "object_fit": null,
            "grid_auto_columns": null,
            "margin": null,
            "display": null,
            "left": null
          }
        }
      }
    }
  },
  "cells": [
    {
      "cell_type": "markdown",
      "metadata": {
        "id": "-3zBlMV_lp52",
        "colab_type": "text"
      },
      "source": [
        "#Решение соревнования https://www.kaggle.com/c/secondname/\n",
        "\n",
        "Нужно построить классификатор, определяющий, является ли слово фамилией. Для оценки качества используется площадь под ROC-кривой (AUC), так как классы сильно несбалансированны.\n",
        "#### Maksim Pikalov, Public - 0.95201"
      ]
    },
    {
      "cell_type": "markdown",
      "metadata": {
        "id": "F1k6ybS2Kkyp",
        "colab_type": "text"
      },
      "source": [
        "Поскольку проект учебный импортируем все возможные библиотеки, чтобы выбрать наиболее подходящие варианты:"
      ]
    },
    {
      "cell_type": "code",
      "metadata": {
        "id": "EH_MNJycKoxy",
        "colab_type": "code",
        "outputId": "8dba0045-8570-4fa2-cb48-898550dc8f58",
        "colab": {
          "base_uri": "https://localhost:8080/",
          "height": 541
        }
      },
      "source": [
        "!pip install pymorphy2\n",
        "!pip install catboost"
      ],
      "execution_count": 0,
      "outputs": [
        {
          "output_type": "stream",
          "text": [
            "Collecting pymorphy2\n",
            "\u001b[?25l  Downloading https://files.pythonhosted.org/packages/a3/33/fff9675c68b5f6c63ec8c6e6ff57827dda28a1fa5b2c2d727dffff92dd47/pymorphy2-0.8-py2.py3-none-any.whl (46kB)\n",
            "\u001b[K     |████████████████████████████████| 51kB 2.6MB/s \n",
            "\u001b[?25hCollecting pymorphy2-dicts<3.0,>=2.4\n",
            "\u001b[?25l  Downloading https://files.pythonhosted.org/packages/02/51/2465fd4f72328ab50877b54777764d928da8cb15b74e2680fc1bd8cb3173/pymorphy2_dicts-2.4.393442.3710985-py2.py3-none-any.whl (7.1MB)\n",
            "\u001b[K     |████████████████████████████████| 7.1MB 6.0MB/s \n",
            "\u001b[?25hRequirement already satisfied: docopt>=0.6 in /usr/local/lib/python3.6/dist-packages (from pymorphy2) (0.6.2)\n",
            "Collecting dawg-python>=0.7\n",
            "  Downloading https://files.pythonhosted.org/packages/6a/84/ff1ce2071d4c650ec85745766c0047ccc3b5036f1d03559fd46bb38b5eeb/DAWG_Python-0.7.2-py2.py3-none-any.whl\n",
            "Installing collected packages: pymorphy2-dicts, dawg-python, pymorphy2\n",
            "Successfully installed dawg-python-0.7.2 pymorphy2-0.8 pymorphy2-dicts-2.4.393442.3710985\n",
            "Collecting catboost\n",
            "\u001b[?25l  Downloading https://files.pythonhosted.org/packages/b1/61/2b8106c8870601671d99ca94d8b8d180f2b740b7cdb95c930147508abcf9/catboost-0.23-cp36-none-manylinux1_x86_64.whl (64.7MB)\n",
            "\u001b[K     |████████████████████████████████| 64.8MB 57kB/s \n",
            "\u001b[?25hRequirement already satisfied: plotly in /usr/local/lib/python3.6/dist-packages (from catboost) (4.4.1)\n",
            "Requirement already satisfied: six in /usr/local/lib/python3.6/dist-packages (from catboost) (1.12.0)\n",
            "Requirement already satisfied: scipy in /usr/local/lib/python3.6/dist-packages (from catboost) (1.4.1)\n",
            "Requirement already satisfied: matplotlib in /usr/local/lib/python3.6/dist-packages (from catboost) (3.2.1)\n",
            "Requirement already satisfied: graphviz in /usr/local/lib/python3.6/dist-packages (from catboost) (0.10.1)\n",
            "Requirement already satisfied: pandas>=0.24.0 in /usr/local/lib/python3.6/dist-packages (from catboost) (1.0.3)\n",
            "Requirement already satisfied: numpy>=1.16.0 in /usr/local/lib/python3.6/dist-packages (from catboost) (1.18.3)\n",
            "Requirement already satisfied: retrying>=1.3.3 in /usr/local/lib/python3.6/dist-packages (from plotly->catboost) (1.3.3)\n",
            "Requirement already satisfied: pyparsing!=2.0.4,!=2.1.2,!=2.1.6,>=2.0.1 in /usr/local/lib/python3.6/dist-packages (from matplotlib->catboost) (2.4.7)\n",
            "Requirement already satisfied: cycler>=0.10 in /usr/local/lib/python3.6/dist-packages (from matplotlib->catboost) (0.10.0)\n",
            "Requirement already satisfied: kiwisolver>=1.0.1 in /usr/local/lib/python3.6/dist-packages (from matplotlib->catboost) (1.2.0)\n",
            "Requirement already satisfied: python-dateutil>=2.1 in /usr/local/lib/python3.6/dist-packages (from matplotlib->catboost) (2.8.1)\n",
            "Requirement already satisfied: pytz>=2017.2 in /usr/local/lib/python3.6/dist-packages (from pandas>=0.24.0->catboost) (2018.9)\n",
            "Installing collected packages: catboost\n",
            "Successfully installed catboost-0.23\n"
          ],
          "name": "stdout"
        }
      ]
    },
    {
      "cell_type": "code",
      "metadata": {
        "ExecuteTime": {
          "end_time": "2020-04-28T17:14:02.338907Z",
          "start_time": "2020-04-28T17:14:01.379126Z"
        },
        "id": "0jccj0hWKkyw",
        "colab_type": "code",
        "colab": {}
      },
      "source": [
        "import pandas as pd\n",
        "import numpy as np\n",
        "import pymorphy2\n",
        "from sklearn import metrics\n",
        "\n",
        "from sklearn.model_selection import cross_val_score, train_test_split\n",
        "from sklearn.ensemble import BaggingClassifier\n",
        "from sklearn.tree import DecisionTreeClassifier\n",
        "from sklearn.ensemble import RandomForestClassifier\n",
        "from sklearn.linear_model import LogisticRegression # для сравнения с линейной моделью\n",
        "from sklearn.feature_extraction.text import CountVectorizer, TfidfVectorizer, TfidfTransformer\n",
        "from sklearn.model_selection import StratifiedKFold\n",
        "from lightgbm import LGBMClassifier\n",
        "from xgboost import XGBClassifier\n",
        "from catboost import CatBoostClassifier\n",
        "import warnings\n",
        "warnings.filterwarnings('ignore')\n",
        "from sklearn.preprocessing import LabelEncoder\n",
        "import gensim\n",
        "from gensim.models import word2vec\n",
        "from tqdm._tqdm_notebook import tqdm_notebook\n",
        "import gc\n",
        "\n",
        "from textwrap import wrap"
      ],
      "execution_count": 0,
      "outputs": []
    },
    {
      "cell_type": "markdown",
      "metadata": {
        "id": "QOkZUFfoKkzE",
        "colab_type": "text"
      },
      "source": [
        "Поскольку в данной задаче признаки не даны в условии, то попробуем сгенерировать их самостоятельно."
      ]
    },
    {
      "cell_type": "markdown",
      "metadata": {
        "id": "tPEu7YU8KkzL",
        "colab_type": "text"
      },
      "source": [
        "## Векторизуем данные с помощью библиотеки word2vec, чтобы добавить признаки"
      ]
    },
    {
      "cell_type": "markdown",
      "metadata": {
        "id": "5SL1b3fnKkzO",
        "colab_type": "text"
      },
      "source": [
        "Читаем dataset'ы train & test и объединяем в один для векторизации word2vec:"
      ]
    },
    {
      "cell_type": "code",
      "metadata": {
        "ExecuteTime": {
          "end_time": "2020-04-28T17:14:02.620134Z",
          "start_time": "2020-04-28T17:14:02.341358Z"
        },
        "id": "JtKUbB3vKkzQ",
        "colab_type": "code",
        "colab": {}
      },
      "source": [
        "fname = r'linear_train.txt'\n",
        "df = pd.read_csv(fname, names=['surname', 'target'])\n",
        "df_test = pd.read_csv('linear_test.txt',names=['surname', 'target'])\n",
        "df_for_w2v = pd.concat([df, df_test])"
      ],
      "execution_count": 0,
      "outputs": []
    },
    {
      "cell_type": "code",
      "metadata": {
        "ExecuteTime": {
          "end_time": "2020-04-28T17:14:02.635890Z",
          "start_time": "2020-04-28T17:14:02.622734Z"
        },
        "id": "VVnHVuEwKkzb",
        "colab_type": "code",
        "colab": {}
      },
      "source": [
        "surname_list_test = list(df_test['surname'].values)\n",
        "surname_list_train = list(df['surname'].values)"
      ],
      "execution_count": 0,
      "outputs": []
    },
    {
      "cell_type": "markdown",
      "metadata": {
        "id": "aa7gWCiBKkzq",
        "colab_type": "text"
      },
      "source": [
        "Разобъем наши слова на n-граммы и создадим словарь токенов:"
      ]
    },
    {
      "cell_type": "code",
      "metadata": {
        "ExecuteTime": {
          "end_time": "2020-04-28T17:14:06.060342Z",
          "start_time": "2020-04-28T17:14:02.638021Z"
        },
        "id": "GIbj_6K0Kkzt",
        "colab_type": "code",
        "colab": {}
      },
      "source": [
        "#укажите количество символов, на которое будем разбивать слова\n",
        "n = 3\n",
        "\n",
        "surname_tokens = []\n",
        "tokens_set = set()\n",
        "for surname in surname_list_train+surname_list_test:\n",
        "    tmp = wrap(surname, n)\n",
        "    surname_tokens.append(tmp)\n",
        "    for i in tmp:\n",
        "        tokens_set.add(i)"
      ],
      "execution_count": 0,
      "outputs": []
    },
    {
      "cell_type": "markdown",
      "metadata": {
        "id": "nC-lAYK_Kkz5",
        "colab_type": "text"
      },
      "source": [
        "Обучим модель word2vec на полученных токенах:"
      ]
    },
    {
      "cell_type": "code",
      "metadata": {
        "ExecuteTime": {
          "end_time": "2020-04-28T17:14:15.103953Z",
          "start_time": "2020-04-28T17:14:06.062773Z"
        },
        "id": "Dbj3-gtAKkz7",
        "colab_type": "code",
        "colab": {}
      },
      "source": [
        "size_model=200\n",
        "model = gensim.models.Word2Vec(surname_tokens,\n",
        "                               sg=1,\n",
        "                               size=size_model,\n",
        "                               workers=8,\n",
        "                               min_count=1,\n",
        "                               window=4)"
      ],
      "execution_count": 0,
      "outputs": []
    },
    {
      "cell_type": "markdown",
      "metadata": {
        "id": "sXdITxkEKk0N",
        "colab_type": "text"
      },
      "source": [
        "Нормируем вектора каждого токена:"
      ]
    },
    {
      "cell_type": "code",
      "metadata": {
        "ExecuteTime": {
          "end_time": "2020-04-28T17:14:22.079584Z",
          "start_time": "2020-04-28T17:14:15.105678Z"
        },
        "id": "4OkTlrjOKk0P",
        "colab_type": "code",
        "colab": {}
      },
      "source": [
        "surname_vectors = []\n",
        "for sur in surname_tokens:\n",
        "    summ = 0\n",
        "    for i in range(len(sur)):\n",
        "        summ += model[sur[i]]\n",
        "    surname_vectors.append(summ/len(sur))\n",
        "surname_vectors = (np.array(surname_vectors)).transpose()"
      ],
      "execution_count": 0,
      "outputs": []
    },
    {
      "cell_type": "markdown",
      "metadata": {
        "id": "U5_RD8n7Kk0X",
        "colab_type": "text"
      },
      "source": [
        "## Добавим полученные признаки в dataset"
      ]
    },
    {
      "cell_type": "code",
      "metadata": {
        "ExecuteTime": {
          "end_time": "2020-04-28T17:14:23.148522Z",
          "start_time": "2020-04-28T17:14:22.082477Z"
        },
        "id": "-neC2yaoKk0Z",
        "colab_type": "code",
        "colab": {}
      },
      "source": [
        "for col_name, obj in zip(range(size_model), surname_vectors):\n",
        "    df_for_w2v[str(col_name)] = obj"
      ],
      "execution_count": 0,
      "outputs": []
    },
    {
      "cell_type": "markdown",
      "metadata": {
        "id": "4jqn91xcKk0k",
        "colab_type": "text"
      },
      "source": [
        "Посмотрим на получившийся датасет:"
      ]
    },
    {
      "cell_type": "code",
      "metadata": {
        "ExecuteTime": {
          "end_time": "2020-04-28T17:14:23.186183Z",
          "start_time": "2020-04-28T17:14:23.150391Z"
        },
        "scrolled": true,
        "id": "dIc56h_LKk0m",
        "colab_type": "code",
        "outputId": "faa71747-23be-47b5-9302-bdabf751965f",
        "colab": {
          "base_uri": "https://localhost:8080/",
          "height": 256
        }
      },
      "source": [
        "df_for_w2v.head()"
      ],
      "execution_count": 0,
      "outputs": [
        {
          "output_type": "execute_result",
          "data": {
            "text/html": [
              "<div>\n",
              "<style scoped>\n",
              "    .dataframe tbody tr th:only-of-type {\n",
              "        vertical-align: middle;\n",
              "    }\n",
              "\n",
              "    .dataframe tbody tr th {\n",
              "        vertical-align: top;\n",
              "    }\n",
              "\n",
              "    .dataframe thead th {\n",
              "        text-align: right;\n",
              "    }\n",
              "</style>\n",
              "<table border=\"1\" class=\"dataframe\">\n",
              "  <thead>\n",
              "    <tr style=\"text-align: right;\">\n",
              "      <th></th>\n",
              "      <th>surname</th>\n",
              "      <th>target</th>\n",
              "      <th>0</th>\n",
              "      <th>1</th>\n",
              "      <th>2</th>\n",
              "      <th>3</th>\n",
              "      <th>4</th>\n",
              "      <th>5</th>\n",
              "      <th>6</th>\n",
              "      <th>7</th>\n",
              "      <th>8</th>\n",
              "      <th>9</th>\n",
              "      <th>10</th>\n",
              "      <th>11</th>\n",
              "      <th>12</th>\n",
              "      <th>13</th>\n",
              "      <th>14</th>\n",
              "      <th>15</th>\n",
              "      <th>16</th>\n",
              "      <th>17</th>\n",
              "      <th>18</th>\n",
              "      <th>19</th>\n",
              "      <th>20</th>\n",
              "      <th>21</th>\n",
              "      <th>22</th>\n",
              "      <th>23</th>\n",
              "      <th>24</th>\n",
              "      <th>25</th>\n",
              "      <th>26</th>\n",
              "      <th>27</th>\n",
              "      <th>28</th>\n",
              "      <th>29</th>\n",
              "      <th>30</th>\n",
              "      <th>31</th>\n",
              "      <th>32</th>\n",
              "      <th>33</th>\n",
              "      <th>34</th>\n",
              "      <th>35</th>\n",
              "      <th>36</th>\n",
              "      <th>37</th>\n",
              "      <th>...</th>\n",
              "      <th>160</th>\n",
              "      <th>161</th>\n",
              "      <th>162</th>\n",
              "      <th>163</th>\n",
              "      <th>164</th>\n",
              "      <th>165</th>\n",
              "      <th>166</th>\n",
              "      <th>167</th>\n",
              "      <th>168</th>\n",
              "      <th>169</th>\n",
              "      <th>170</th>\n",
              "      <th>171</th>\n",
              "      <th>172</th>\n",
              "      <th>173</th>\n",
              "      <th>174</th>\n",
              "      <th>175</th>\n",
              "      <th>176</th>\n",
              "      <th>177</th>\n",
              "      <th>178</th>\n",
              "      <th>179</th>\n",
              "      <th>180</th>\n",
              "      <th>181</th>\n",
              "      <th>182</th>\n",
              "      <th>183</th>\n",
              "      <th>184</th>\n",
              "      <th>185</th>\n",
              "      <th>186</th>\n",
              "      <th>187</th>\n",
              "      <th>188</th>\n",
              "      <th>189</th>\n",
              "      <th>190</th>\n",
              "      <th>191</th>\n",
              "      <th>192</th>\n",
              "      <th>193</th>\n",
              "      <th>194</th>\n",
              "      <th>195</th>\n",
              "      <th>196</th>\n",
              "      <th>197</th>\n",
              "      <th>198</th>\n",
              "      <th>199</th>\n",
              "    </tr>\n",
              "  </thead>\n",
              "  <tbody>\n",
              "    <tr>\n",
              "      <th>0</th>\n",
              "      <td>Аалтонен</td>\n",
              "      <td>1.0</td>\n",
              "      <td>-0.126881</td>\n",
              "      <td>0.193165</td>\n",
              "      <td>-0.140195</td>\n",
              "      <td>0.053468</td>\n",
              "      <td>-0.059329</td>\n",
              "      <td>0.094659</td>\n",
              "      <td>0.036002</td>\n",
              "      <td>0.227655</td>\n",
              "      <td>-0.102498</td>\n",
              "      <td>0.111511</td>\n",
              "      <td>-0.071624</td>\n",
              "      <td>0.000995</td>\n",
              "      <td>0.152599</td>\n",
              "      <td>-0.056503</td>\n",
              "      <td>0.221251</td>\n",
              "      <td>-0.237311</td>\n",
              "      <td>-0.015136</td>\n",
              "      <td>-0.026903</td>\n",
              "      <td>-0.033764</td>\n",
              "      <td>0.088953</td>\n",
              "      <td>0.147848</td>\n",
              "      <td>0.085745</td>\n",
              "      <td>-0.098360</td>\n",
              "      <td>0.036319</td>\n",
              "      <td>0.041965</td>\n",
              "      <td>0.033387</td>\n",
              "      <td>0.004927</td>\n",
              "      <td>-0.042142</td>\n",
              "      <td>-0.127081</td>\n",
              "      <td>-0.010161</td>\n",
              "      <td>-0.027054</td>\n",
              "      <td>-0.024940</td>\n",
              "      <td>-0.169333</td>\n",
              "      <td>-0.141313</td>\n",
              "      <td>-0.041203</td>\n",
              "      <td>-0.206520</td>\n",
              "      <td>-0.011129</td>\n",
              "      <td>0.083747</td>\n",
              "      <td>...</td>\n",
              "      <td>0.132046</td>\n",
              "      <td>-0.043649</td>\n",
              "      <td>0.250864</td>\n",
              "      <td>-0.113117</td>\n",
              "      <td>-0.093216</td>\n",
              "      <td>-0.130815</td>\n",
              "      <td>-0.040618</td>\n",
              "      <td>0.120134</td>\n",
              "      <td>-0.038645</td>\n",
              "      <td>-0.118321</td>\n",
              "      <td>0.109578</td>\n",
              "      <td>-0.000306</td>\n",
              "      <td>0.028083</td>\n",
              "      <td>-0.059882</td>\n",
              "      <td>-0.007380</td>\n",
              "      <td>0.146751</td>\n",
              "      <td>-0.082356</td>\n",
              "      <td>-0.010775</td>\n",
              "      <td>0.399233</td>\n",
              "      <td>0.137980</td>\n",
              "      <td>-0.076179</td>\n",
              "      <td>-0.115567</td>\n",
              "      <td>0.145228</td>\n",
              "      <td>-0.053926</td>\n",
              "      <td>-0.012619</td>\n",
              "      <td>-0.145737</td>\n",
              "      <td>-0.155369</td>\n",
              "      <td>0.162389</td>\n",
              "      <td>0.077197</td>\n",
              "      <td>0.025116</td>\n",
              "      <td>0.067457</td>\n",
              "      <td>0.083182</td>\n",
              "      <td>-0.028105</td>\n",
              "      <td>0.014866</td>\n",
              "      <td>-0.114338</td>\n",
              "      <td>-0.219512</td>\n",
              "      <td>0.119048</td>\n",
              "      <td>0.082883</td>\n",
              "      <td>-0.069787</td>\n",
              "      <td>0.195463</td>\n",
              "    </tr>\n",
              "    <tr>\n",
              "      <th>1</th>\n",
              "      <td>Аар</td>\n",
              "      <td>0.0</td>\n",
              "      <td>-0.080772</td>\n",
              "      <td>0.052016</td>\n",
              "      <td>-0.160002</td>\n",
              "      <td>0.021338</td>\n",
              "      <td>0.063651</td>\n",
              "      <td>0.011947</td>\n",
              "      <td>-0.074008</td>\n",
              "      <td>0.205771</td>\n",
              "      <td>-0.091549</td>\n",
              "      <td>-0.025624</td>\n",
              "      <td>-0.126751</td>\n",
              "      <td>0.016024</td>\n",
              "      <td>0.064543</td>\n",
              "      <td>-0.021126</td>\n",
              "      <td>0.089526</td>\n",
              "      <td>-0.105284</td>\n",
              "      <td>0.049067</td>\n",
              "      <td>0.114424</td>\n",
              "      <td>0.086479</td>\n",
              "      <td>0.019575</td>\n",
              "      <td>0.007043</td>\n",
              "      <td>0.140352</td>\n",
              "      <td>-0.068682</td>\n",
              "      <td>0.076958</td>\n",
              "      <td>0.099506</td>\n",
              "      <td>0.014101</td>\n",
              "      <td>0.039611</td>\n",
              "      <td>-0.142950</td>\n",
              "      <td>0.011050</td>\n",
              "      <td>-0.039726</td>\n",
              "      <td>0.033159</td>\n",
              "      <td>0.040547</td>\n",
              "      <td>-0.071989</td>\n",
              "      <td>-0.070351</td>\n",
              "      <td>-0.051532</td>\n",
              "      <td>-0.125000</td>\n",
              "      <td>0.040993</td>\n",
              "      <td>-0.138616</td>\n",
              "      <td>...</td>\n",
              "      <td>0.014623</td>\n",
              "      <td>-0.069318</td>\n",
              "      <td>0.022084</td>\n",
              "      <td>-0.040715</td>\n",
              "      <td>-0.018921</td>\n",
              "      <td>0.047032</td>\n",
              "      <td>-0.103110</td>\n",
              "      <td>0.131538</td>\n",
              "      <td>-0.020995</td>\n",
              "      <td>-0.147414</td>\n",
              "      <td>0.005381</td>\n",
              "      <td>-0.008031</td>\n",
              "      <td>-0.061958</td>\n",
              "      <td>-0.003336</td>\n",
              "      <td>0.001869</td>\n",
              "      <td>0.119736</td>\n",
              "      <td>-0.088922</td>\n",
              "      <td>0.028619</td>\n",
              "      <td>0.154339</td>\n",
              "      <td>0.063582</td>\n",
              "      <td>-0.121270</td>\n",
              "      <td>-0.077987</td>\n",
              "      <td>0.143251</td>\n",
              "      <td>-0.029302</td>\n",
              "      <td>0.027491</td>\n",
              "      <td>-0.102904</td>\n",
              "      <td>-0.017842</td>\n",
              "      <td>0.044877</td>\n",
              "      <td>0.036500</td>\n",
              "      <td>-0.054464</td>\n",
              "      <td>-0.096489</td>\n",
              "      <td>-0.002123</td>\n",
              "      <td>-0.030909</td>\n",
              "      <td>0.110391</td>\n",
              "      <td>0.012372</td>\n",
              "      <td>-0.012430</td>\n",
              "      <td>0.157062</td>\n",
              "      <td>0.088149</td>\n",
              "      <td>-0.053740</td>\n",
              "      <td>0.140645</td>\n",
              "    </tr>\n",
              "    <tr>\n",
              "      <th>2</th>\n",
              "      <td>Аарон</td>\n",
              "      <td>0.0</td>\n",
              "      <td>-0.045483</td>\n",
              "      <td>0.086226</td>\n",
              "      <td>-0.138923</td>\n",
              "      <td>0.032169</td>\n",
              "      <td>-0.021871</td>\n",
              "      <td>0.067380</td>\n",
              "      <td>0.018325</td>\n",
              "      <td>0.250136</td>\n",
              "      <td>0.060061</td>\n",
              "      <td>0.039556</td>\n",
              "      <td>-0.109976</td>\n",
              "      <td>0.019396</td>\n",
              "      <td>0.218807</td>\n",
              "      <td>0.037863</td>\n",
              "      <td>0.159191</td>\n",
              "      <td>-0.158129</td>\n",
              "      <td>0.018382</td>\n",
              "      <td>-0.050888</td>\n",
              "      <td>0.041621</td>\n",
              "      <td>0.213312</td>\n",
              "      <td>-0.008611</td>\n",
              "      <td>0.111581</td>\n",
              "      <td>-0.014652</td>\n",
              "      <td>0.129909</td>\n",
              "      <td>0.149864</td>\n",
              "      <td>-0.015612</td>\n",
              "      <td>-0.006809</td>\n",
              "      <td>-0.101520</td>\n",
              "      <td>-0.089729</td>\n",
              "      <td>0.063490</td>\n",
              "      <td>-0.083011</td>\n",
              "      <td>-0.038346</td>\n",
              "      <td>-0.099085</td>\n",
              "      <td>-0.149796</td>\n",
              "      <td>-0.026407</td>\n",
              "      <td>-0.175994</td>\n",
              "      <td>-0.033388</td>\n",
              "      <td>-0.136453</td>\n",
              "      <td>...</td>\n",
              "      <td>0.146057</td>\n",
              "      <td>-0.293466</td>\n",
              "      <td>0.139456</td>\n",
              "      <td>-0.142249</td>\n",
              "      <td>0.008939</td>\n",
              "      <td>-0.109554</td>\n",
              "      <td>-0.019694</td>\n",
              "      <td>0.107862</td>\n",
              "      <td>-0.014111</td>\n",
              "      <td>-0.342380</td>\n",
              "      <td>0.057851</td>\n",
              "      <td>0.102186</td>\n",
              "      <td>-0.078472</td>\n",
              "      <td>-0.157357</td>\n",
              "      <td>-0.196779</td>\n",
              "      <td>0.061705</td>\n",
              "      <td>-0.186368</td>\n",
              "      <td>-0.101563</td>\n",
              "      <td>0.309247</td>\n",
              "      <td>0.015934</td>\n",
              "      <td>-0.089883</td>\n",
              "      <td>-0.135571</td>\n",
              "      <td>-0.003885</td>\n",
              "      <td>-0.146919</td>\n",
              "      <td>0.069419</td>\n",
              "      <td>-0.139836</td>\n",
              "      <td>-0.151164</td>\n",
              "      <td>0.004609</td>\n",
              "      <td>-0.034100</td>\n",
              "      <td>-0.088260</td>\n",
              "      <td>-0.169596</td>\n",
              "      <td>0.129118</td>\n",
              "      <td>0.016354</td>\n",
              "      <td>0.058473</td>\n",
              "      <td>0.004030</td>\n",
              "      <td>-0.117246</td>\n",
              "      <td>0.192600</td>\n",
              "      <td>0.125410</td>\n",
              "      <td>-0.093792</td>\n",
              "      <td>0.206888</td>\n",
              "    </tr>\n",
              "    <tr>\n",
              "      <th>3</th>\n",
              "      <td>ААРОН</td>\n",
              "      <td>0.0</td>\n",
              "      <td>-0.052202</td>\n",
              "      <td>0.036116</td>\n",
              "      <td>-0.103213</td>\n",
              "      <td>0.031840</td>\n",
              "      <td>-0.041998</td>\n",
              "      <td>0.011425</td>\n",
              "      <td>-0.048646</td>\n",
              "      <td>0.135283</td>\n",
              "      <td>-0.055702</td>\n",
              "      <td>0.000457</td>\n",
              "      <td>-0.000986</td>\n",
              "      <td>0.098825</td>\n",
              "      <td>0.033322</td>\n",
              "      <td>0.036945</td>\n",
              "      <td>0.074502</td>\n",
              "      <td>-0.119927</td>\n",
              "      <td>-0.053707</td>\n",
              "      <td>0.125588</td>\n",
              "      <td>0.013175</td>\n",
              "      <td>0.114303</td>\n",
              "      <td>0.015650</td>\n",
              "      <td>0.133331</td>\n",
              "      <td>-0.083285</td>\n",
              "      <td>0.021404</td>\n",
              "      <td>0.053206</td>\n",
              "      <td>-0.093577</td>\n",
              "      <td>-0.101801</td>\n",
              "      <td>-0.135361</td>\n",
              "      <td>-0.088055</td>\n",
              "      <td>0.061581</td>\n",
              "      <td>0.015932</td>\n",
              "      <td>-0.039066</td>\n",
              "      <td>0.017647</td>\n",
              "      <td>-0.003945</td>\n",
              "      <td>0.062306</td>\n",
              "      <td>0.009184</td>\n",
              "      <td>0.013805</td>\n",
              "      <td>-0.161712</td>\n",
              "      <td>...</td>\n",
              "      <td>-0.001432</td>\n",
              "      <td>-0.024411</td>\n",
              "      <td>0.175622</td>\n",
              "      <td>-0.017640</td>\n",
              "      <td>0.042979</td>\n",
              "      <td>-0.092446</td>\n",
              "      <td>0.035871</td>\n",
              "      <td>0.033027</td>\n",
              "      <td>0.101192</td>\n",
              "      <td>-0.040471</td>\n",
              "      <td>-0.020088</td>\n",
              "      <td>0.024735</td>\n",
              "      <td>-0.070389</td>\n",
              "      <td>0.034896</td>\n",
              "      <td>-0.060600</td>\n",
              "      <td>0.183898</td>\n",
              "      <td>-0.041574</td>\n",
              "      <td>-0.007211</td>\n",
              "      <td>0.141584</td>\n",
              "      <td>0.024289</td>\n",
              "      <td>0.067908</td>\n",
              "      <td>-0.125453</td>\n",
              "      <td>0.074177</td>\n",
              "      <td>-0.006903</td>\n",
              "      <td>-0.032807</td>\n",
              "      <td>-0.094309</td>\n",
              "      <td>0.025117</td>\n",
              "      <td>-0.136672</td>\n",
              "      <td>-0.005839</td>\n",
              "      <td>-0.014987</td>\n",
              "      <td>-0.003359</td>\n",
              "      <td>0.039486</td>\n",
              "      <td>0.010030</td>\n",
              "      <td>0.102346</td>\n",
              "      <td>0.056408</td>\n",
              "      <td>-0.047880</td>\n",
              "      <td>0.081251</td>\n",
              "      <td>0.119332</td>\n",
              "      <td>-0.066289</td>\n",
              "      <td>0.048099</td>\n",
              "    </tr>\n",
              "    <tr>\n",
              "      <th>4</th>\n",
              "      <td>Аарона</td>\n",
              "      <td>0.0</td>\n",
              "      <td>-0.003901</td>\n",
              "      <td>0.207774</td>\n",
              "      <td>-0.274087</td>\n",
              "      <td>-0.062856</td>\n",
              "      <td>0.072914</td>\n",
              "      <td>-0.030021</td>\n",
              "      <td>0.068625</td>\n",
              "      <td>0.305421</td>\n",
              "      <td>0.040595</td>\n",
              "      <td>0.079357</td>\n",
              "      <td>-0.168823</td>\n",
              "      <td>0.057694</td>\n",
              "      <td>0.533695</td>\n",
              "      <td>0.062513</td>\n",
              "      <td>0.243652</td>\n",
              "      <td>0.025050</td>\n",
              "      <td>0.123149</td>\n",
              "      <td>-0.051126</td>\n",
              "      <td>0.221660</td>\n",
              "      <td>0.063741</td>\n",
              "      <td>-0.122191</td>\n",
              "      <td>0.330225</td>\n",
              "      <td>0.022970</td>\n",
              "      <td>0.212448</td>\n",
              "      <td>0.222876</td>\n",
              "      <td>0.025225</td>\n",
              "      <td>0.147668</td>\n",
              "      <td>0.049546</td>\n",
              "      <td>-0.061486</td>\n",
              "      <td>-0.055336</td>\n",
              "      <td>-0.003710</td>\n",
              "      <td>0.052780</td>\n",
              "      <td>0.034546</td>\n",
              "      <td>-0.120220</td>\n",
              "      <td>-0.221384</td>\n",
              "      <td>-0.132266</td>\n",
              "      <td>-0.046504</td>\n",
              "      <td>-0.148413</td>\n",
              "      <td>...</td>\n",
              "      <td>0.204200</td>\n",
              "      <td>-0.289162</td>\n",
              "      <td>0.050188</td>\n",
              "      <td>-0.183581</td>\n",
              "      <td>-0.099150</td>\n",
              "      <td>0.076052</td>\n",
              "      <td>-0.065948</td>\n",
              "      <td>0.159439</td>\n",
              "      <td>-0.023317</td>\n",
              "      <td>-0.439599</td>\n",
              "      <td>-0.006806</td>\n",
              "      <td>0.133672</td>\n",
              "      <td>0.046212</td>\n",
              "      <td>-0.237398</td>\n",
              "      <td>-0.323297</td>\n",
              "      <td>-0.145989</td>\n",
              "      <td>-0.170266</td>\n",
              "      <td>-0.195154</td>\n",
              "      <td>0.285267</td>\n",
              "      <td>-0.141633</td>\n",
              "      <td>-0.172047</td>\n",
              "      <td>-0.258864</td>\n",
              "      <td>-0.055844</td>\n",
              "      <td>0.035220</td>\n",
              "      <td>0.204696</td>\n",
              "      <td>-0.216512</td>\n",
              "      <td>-0.224943</td>\n",
              "      <td>-0.096119</td>\n",
              "      <td>-0.124973</td>\n",
              "      <td>-0.153802</td>\n",
              "      <td>-0.227883</td>\n",
              "      <td>0.239974</td>\n",
              "      <td>0.136791</td>\n",
              "      <td>-0.027239</td>\n",
              "      <td>0.218738</td>\n",
              "      <td>0.163633</td>\n",
              "      <td>0.175529</td>\n",
              "      <td>0.087085</td>\n",
              "      <td>-0.016801</td>\n",
              "      <td>0.184302</td>\n",
              "    </tr>\n",
              "  </tbody>\n",
              "</table>\n",
              "<p>5 rows × 202 columns</p>\n",
              "</div>"
            ],
            "text/plain": [
              "    surname  target         0         1  ...       196       197       198       199\n",
              "0  Аалтонен     1.0 -0.126881  0.193165  ...  0.119048  0.082883 -0.069787  0.195463\n",
              "1       Аар     0.0 -0.080772  0.052016  ...  0.157062  0.088149 -0.053740  0.140645\n",
              "2     Аарон     0.0 -0.045483  0.086226  ...  0.192600  0.125410 -0.093792  0.206888\n",
              "3     ААРОН     0.0 -0.052202  0.036116  ...  0.081251  0.119332 -0.066289  0.048099\n",
              "4    Аарона     0.0 -0.003901  0.207774  ...  0.175529  0.087085 -0.016801  0.184302\n",
              "\n",
              "[5 rows x 202 columns]"
            ]
          },
          "metadata": {
            "tags": []
          },
          "execution_count": 46
        }
      ]
    },
    {
      "cell_type": "markdown",
      "metadata": {
        "id": "pmt_aekTKk02",
        "colab_type": "text"
      },
      "source": [
        "## Вручную сгенерирум дополнительные признаки"
      ]
    },
    {
      "cell_type": "markdown",
      "metadata": {
        "id": "8U5L9z7dKk1F",
        "colab_type": "text"
      },
      "source": [
        "Сформируем функции, которые будут определять:\n",
        "\n",
        "1) начинается ли слово с заглавной буквы,\n",
        "\n",
        "2) наличие в слове характерных для фамилий суффиксов и окончаний,\n",
        "\n",
        "3) количество слогов и гласных/согласных букв в слове."
      ]
    },
    {
      "cell_type": "code",
      "metadata": {
        "ExecuteTime": {
          "end_time": "2020-04-28T17:14:31.885193Z",
          "start_time": "2020-04-28T17:14:31.852396Z"
        },
        "id": "zx8WgCxqKk1I",
        "colab_type": "code",
        "colab": {}
      },
      "source": [
        "skonca=5\n",
        "def ovev(Famils):\n",
        "    num=[]\n",
        "    for els in Famils:    \n",
        "        if ('ов' in els[-skonca:]) or ('ОВ' in els[-skonca:]) or ('ев' in els[-skonca:]) or ('ЕВ' in els[-skonca:]) or ('ёв' in els[-skonca:]) or ('ЁВ' in els[-skonca:]):\n",
        "            num.append(1)\n",
        "        else:\n",
        "            num.append(0)\n",
        "    return(np.array(num))\n",
        "    \n",
        "def inyn(Famils):\n",
        "    num=[]\n",
        "    for els in Famils:\n",
        "        if ('ин' in els[-skonca:]) or ('ИН' in els[-skonca:]) or ('ын' in els[-skonca:]) or ('ЫН' in els[-skonca:]):\n",
        "            num.append(1)\n",
        "        else:\n",
        "            num.append(0)\n",
        "    return(np.array(num))\n",
        "    \n",
        "def skck(Famils):\n",
        "    num=[]\n",
        "    for els in Famils:\n",
        "        if ('ск' in els[-skonca:]) or ('СК' in els[-skonca:]) or('цк' in els[-skonca:]) or ('ЦК' in els[-skonca:]):\n",
        "            num.append(1)\n",
        "        else:\n",
        "            num.append(0)\n",
        "    return(np.array(num))\n",
        "\n",
        "def bigl(Famils):\n",
        "    num=[]\n",
        "    for els in Famils:\n",
        "        if els[0] in 'АБВГДЕЁЖЗИЙКЛМНОПРСТУФХЦЧШЩЭЮЯ':\n",
        "            num.append(1)\n",
        "        else:\n",
        "            num.append(0)\n",
        "    return(np.array(num))\n",
        "\n",
        "def glasn2(Famils):\n",
        "    num=[]\n",
        "    j=0\n",
        "    let='аоеёуыяэюи'\n",
        "    for els in Famils:\n",
        "        for lets in els:\n",
        "            if lets in let or lets in let.upper() :\n",
        "                j+=1\n",
        "        if j==2:\n",
        "            num.append(1)\n",
        "        else:\n",
        "            num.append(0)\n",
        "        j=0\n",
        "    return(np.array(num))\n",
        "\n",
        "def glasn3(Famils):\n",
        "    num=[]\n",
        "    j=0\n",
        "    let='аоеёуыяэюи'\n",
        "    for els in Famils:\n",
        "        for lets in els:\n",
        "            if lets in let or lets in let.upper() :\n",
        "                j+=1\n",
        "        if j==3:\n",
        "            num.append(1)\n",
        "        else:\n",
        "            num.append(0)\n",
        "        j=0\n",
        "    return(np.array(num))\n",
        "\n",
        "def glasn4(Famils):\n",
        "    num=[]\n",
        "    j=0\n",
        "    let='аоеёуыяэюи'\n",
        "    for els in Famils:\n",
        "        for lets in els:\n",
        "            if lets in let or lets in let.upper() :\n",
        "                j+=1\n",
        "        if j==4:\n",
        "            num.append(1)\n",
        "        else:\n",
        "            num.append(0)\n",
        "        j=0\n",
        "    return(np.array(num))\n",
        "\n",
        "def slogs(Famils):\n",
        "    num=[]\n",
        "    j=0\n",
        "    let='аоеёуыяэюи'\n",
        "    for els in Famils:\n",
        "        for lets in els:\n",
        "            if lets in let or lets in let.upper() :\n",
        "                j+=1\n",
        "        num.append(j)\n",
        "        j=0\n",
        "    return(np.array(num))\n",
        "\n",
        "def lens(Famils):\n",
        "    num=[]\n",
        "    for els in Famils:    \n",
        "        num.append(len(els))\n",
        "    return(np.array(num))\n",
        "\n",
        "def anyan(Famils):\n",
        "    num=[]\n",
        "    for els in Famils:\n",
        "        if ('ан' in els[-skonca:]) or ('АН' in els[-skonca:]) or ('ян' in els[-skonca:]) or ('ЯН' in els[-skonca:]):\n",
        "            num.append(1)\n",
        "        else:\n",
        "            num.append(0)\n",
        "    return(np.array(num))\n",
        "\n",
        "def nko(Famils):\n",
        "    num=[]\n",
        "    for els in Famils:\n",
        "        if ('нко' in els[-skonca:]) or ('нк' in els[-skonca:]):\n",
        "            num.append(1)\n",
        "        else:\n",
        "            num.append(0)\n",
        "    return(np.array(num))\n",
        "\n",
        "def ayn(Famils):\n",
        "    num=[]\n",
        "    for els in Famils:\n",
        "        if ('айн' in els[-skonca:]) or ('АЙН' in els[-skonca:]):\n",
        "            num.append(1)\n",
        "        else:\n",
        "            num.append(0)\n",
        "    return(np.array(num))\n",
        "\n",
        "def rs(Famils):\n",
        "    num=[]\n",
        "    for els in Famils:\n",
        "        if ('рс' in els[-skonca:]) or ('РС' in els[-skonca:]):\n",
        "            num.append(1)\n",
        "        else:\n",
        "            num.append(0)\n",
        "    return(np.array(num))\n",
        "\n"
      ],
      "execution_count": 0,
      "outputs": []
    },
    {
      "cell_type": "code",
      "metadata": {
        "ExecuteTime": {
          "end_time": "2020-04-28T17:14:34.268957Z",
          "start_time": "2020-04-28T17:14:32.817917Z"
        },
        "id": "MbyYbLCHKk1Y",
        "colab_type": "code",
        "colab": {}
      },
      "source": [
        "df_for_w2v['ovev']=ovev(df_for_w2v.surname)\n",
        "df_for_w2v['inyn']=inyn(df_for_w2v.surname)\n",
        "df_for_w2v['skck']=skck(df_for_w2v.surname)\n",
        "#df_for_w2v['bigl']=bigl(df_for_w2v.surname)\n",
        "# df_sorted_cut['glasn2']=glasn2(df_sorted_cut.surname)\n",
        "# df_sorted_cut['glasn3']=glasn3(df_sorted_cut.surname)\n",
        "# df_sorted_cut['glasn4']=glasn4(df_sorted_cut.surname)\n",
        "df_for_w2v['slogs']=slogs(df_for_w2v.surname)\n",
        "#df_for_w2v['lens'] = lens(df_for_w2v.surname)\n",
        "#df_for_w2v['anyan']=anyan(df_for_w2v.surname)\n",
        "df_for_w2v['nko']=nko(df_for_w2v.surname)\n",
        "#df_for_w2v['ayn'] = ayn(df_for_w2v.surname)\n",
        "#df_for_w2v['rs']=rs(df_for_w2v.surname)"
      ],
      "execution_count": 0,
      "outputs": []
    },
    {
      "cell_type": "code",
      "metadata": {
        "ExecuteTime": {
          "end_time": "2020-04-28T17:14:34.275383Z",
          "start_time": "2020-04-28T17:14:34.270732Z"
        },
        "id": "8t8N2TlPKk1p",
        "colab_type": "code",
        "colab": {}
      },
      "source": [
        "volwes = 'аеёиоуыэюя'\n",
        "consonant = 'бвгджзйклмнпрстфхцчшщъьа'\n",
        "alphabet = set(volwes) | set(consonant)\n",
        "\n",
        "good_ends = ['цкий',  'ский', 'цкая', 'ская',\n",
        "             'нен', 'ына', 'ина', 'ёва', 'ева', 'ова',\n",
        "             'ым',  'на', 'ых', 'их', 'ын', 'ин', 'ёв', 'ев', 'ов']"
      ],
      "execution_count": 0,
      "outputs": []
    },
    {
      "cell_type": "code",
      "metadata": {
        "ExecuteTime": {
          "end_time": "2020-04-28T17:14:34.857754Z",
          "start_time": "2020-04-28T17:14:34.278169Z"
        },
        "id": "e5kR_GqQKk11",
        "colab_type": "code",
        "colab": {}
      },
      "source": [
        "def symbols(sentence , n):\n",
        "    res = []\n",
        "    for s in sentence:\n",
        "        res.extend(list(s.lower()))\n",
        "    return set(res)\n",
        "\n",
        "\n",
        "all_symbols = symbols(df_for_w2v.surname.values , 1)\n",
        "bad_symbols = all_symbols ^ alphabet"
      ],
      "execution_count": 0,
      "outputs": []
    },
    {
      "cell_type": "code",
      "metadata": {
        "ExecuteTime": {
          "end_time": "2020-04-28T17:14:43.478188Z",
          "start_time": "2020-04-28T17:14:35.037674Z"
        },
        "id": "1GPhZ3ObKk19",
        "colab_type": "code",
        "outputId": "f5f9be1c-bc3f-4347-ca43-1bc2dacc4d45",
        "colab": {
          "base_uri": "https://localhost:8080/",
          "height": 116,
          "referenced_widgets": [
            "7ee25c2c8dc14dc5802d9140c1b77a69",
            "f7dceb40c8d04219a83bbac1d9d84cf1",
            "adb58b7e1955472f9dcb2ddbe48143aa",
            "03131e2b23414e8f8ead1b56673bdf03",
            "2bfaa35dc58f4e758ea2b71076a668b0",
            "8f55732720ee4bcc8ac92c8612b644e8",
            "51420aed3fa8411082534f0304291a66",
            "eecfef3f670642fb9c1a5df45e5bbad0",
            "bf50a68a9e04454d935fe3431345f726",
            "babbf582e3f046eab30096d4601142ac",
            "645230956a154c53a735a5de14604ed6",
            "0553f1d1dbe44166a5c035b43da5cc1e",
            "c03bf9d9c62346d58d8719f2e9616885",
            "af61773eed4b4b1e9e76b4c56e01e18c",
            "bef062c94e5b4018b2896bf948604579",
            "36c2679fc5ac4f8d874bc98e6fbc8e5a"
          ]
        }
      },
      "source": [
        "for s in tqdm_notebook(good_ends):\n",
        "    df_for_w2v['last_' + s] = df_for_w2v['surname'].apply(lambda x: x[-len(s):].lower() == s).astype('int8')\n",
        "\n",
        "for s in tqdm_notebook(alphabet):\n",
        "    df_for_w2v['count_' + s] = df_for_w2v['surname'].apply(lambda x: x.lower().count(s)).astype('int8')"
      ],
      "execution_count": 0,
      "outputs": [
        {
          "output_type": "display_data",
          "data": {
            "application/vnd.jupyter.widget-view+json": {
              "model_id": "7ee25c2c8dc14dc5802d9140c1b77a69",
              "version_minor": 0,
              "version_major": 2
            },
            "text/plain": [
              "HBox(children=(IntProgress(value=0, max=19), HTML(value='')))"
            ]
          },
          "metadata": {
            "tags": []
          }
        },
        {
          "output_type": "stream",
          "text": [
            "\n"
          ],
          "name": "stdout"
        },
        {
          "output_type": "display_data",
          "data": {
            "application/vnd.jupyter.widget-view+json": {
              "model_id": "bf50a68a9e04454d935fe3431345f726",
              "version_minor": 0,
              "version_major": 2
            },
            "text/plain": [
              "HBox(children=(IntProgress(value=0, max=33), HTML(value='')))"
            ]
          },
          "metadata": {
            "tags": []
          }
        },
        {
          "output_type": "stream",
          "text": [
            "\n"
          ],
          "name": "stdout"
        }
      ]
    },
    {
      "cell_type": "code",
      "metadata": {
        "ExecuteTime": {
          "end_time": "2020-04-28T17:14:49.492924Z",
          "start_time": "2020-04-28T17:14:43.481094Z"
        },
        "id": "5ueOdQJaKk2N",
        "colab_type": "code",
        "outputId": "8e2a0c51-a5a6-4099-95e9-8f4941662fd2",
        "colab": {
          "base_uri": "https://localhost:8080/",
          "height": 66,
          "referenced_widgets": [
            "5a2307da5e9e45cca7af0d7c4ab321fd",
            "a1e5bb49f28b405489bb380e5c80f502",
            "89cfb34a46634dadbbf82d56315a3e5f",
            "9ca6ffe58bd14c4fa8d0f49048d9d3b3",
            "e0af32e933194af19cc2197fa60dc1c5",
            "7da9e97b3756493085dd9211d0b08349",
            "8552912a431343f481fb33db6f32eb0f",
            "d055d692f4c847d6b7188801dba135f0"
          ]
        }
      },
      "source": [
        "n_of_gramms = [1,2] \n",
        "index_smoof = [4,6]\n",
        "for j , n in tqdm_notebook(zip(n_of_gramms , index_smoof) , total=len(n_of_gramms)):\n",
        "    for i in range(n):\n",
        "        col_forward = 'forward_' +str(j) + '_' + str(i)\n",
        "        df_for_w2v[col_forward] = df_for_w2v['surname'].apply(str.lower).apply(lambda x: x[i:i+j] if len(x) > i + j - 1 else 'nan')\n",
        "        df_for_w2v[col_forward] = LabelEncoder().fit_transform(df_for_w2v[col_forward])\n",
        "\n",
        "        col_reverse = 'reverse_' +str(j) + '_' + str(i)\n",
        "        df_for_w2v[col_reverse] = df_for_w2v['surname'].apply(str.lower).apply(lambda x: x[::-1][i:i+j]  if len(x) > i + j - 1 else 'nan')\n",
        "        df_for_w2v[col_reverse] = LabelEncoder().fit_transform(df_for_w2v[col_reverse])"
      ],
      "execution_count": 0,
      "outputs": [
        {
          "output_type": "display_data",
          "data": {
            "application/vnd.jupyter.widget-view+json": {
              "model_id": "5a2307da5e9e45cca7af0d7c4ab321fd",
              "version_minor": 0,
              "version_major": 2
            },
            "text/plain": [
              "HBox(children=(IntProgress(value=0, max=2), HTML(value='')))"
            ]
          },
          "metadata": {
            "tags": []
          }
        },
        {
          "output_type": "stream",
          "text": [
            "\n"
          ],
          "name": "stdout"
        }
      ]
    },
    {
      "cell_type": "code",
      "metadata": {
        "ExecuteTime": {
          "end_time": "2020-04-28T17:14:51.912729Z",
          "start_time": "2020-04-28T17:14:49.494927Z"
        },
        "id": "I2ZOlhfBKk2V",
        "colab_type": "code",
        "outputId": "13a94cb7-48e9-43c9-ae83-953f29cc6fd0",
        "colab": {
          "base_uri": "https://localhost:8080/",
          "height": 66,
          "referenced_widgets": [
            "7d7db37d5dae4598b6fb32138241c829",
            "51fc9c22380843f8bd34d03c0fa96635",
            "db0f68ee0a2b469eb973bac8e2caac59",
            "ced01a4634284810b412b82891f4581c",
            "42d01f6f11784f6b9960f9116018a047",
            "f9c8615fec8b4ea0a7fdbf25fc373627",
            "0eb005a362b9467abe7bf398681f1900",
            "bb38fc4494d747c3a10aeccb4e6ad226"
          ]
        }
      },
      "source": [
        "def vowels_count(x):\n",
        "    return len([s for s in x.lower() if s in volwes])\n",
        "\n",
        "def consonant_count(x):\n",
        "    return len([s for s in x.lower() if s in consonant])\n",
        "\n",
        "def divide_vov_by_cons(x):\n",
        "    return vowels_count(x)/(consonant_count(x) + 0.001)\n",
        "\n",
        "def bad_count(x):\n",
        "    return len([s for s in x.lower() if s in bad_symbols])\n",
        "\n",
        "def have_good_end(x):\n",
        "    if (x[-2:] in good_ends) or (x[-3:] in good_ends) or (x[-4:] in good_ends):\n",
        "        return 1\n",
        "    return 0\n",
        "\n",
        "func = [str.isupper , str.istitle , len , vowels_count , consonant_count, divide_vov_by_cons, bad_count , have_good_end]\n",
        "columns = ['isupper' , 'istitle' , 'len' , 'vowels_count' , 'consonant_count' , 'divide_vov_by_cons' ,'bad_count' , 'have_good_end']\n",
        "for f ,col in tqdm_notebook(zip(func, columns) , total = len(func)):\n",
        "    df_for_w2v[col] = df_for_w2v['surname'].apply(f).astype('int8')"
      ],
      "execution_count": 0,
      "outputs": [
        {
          "output_type": "display_data",
          "data": {
            "application/vnd.jupyter.widget-view+json": {
              "model_id": "7d7db37d5dae4598b6fb32138241c829",
              "version_minor": 0,
              "version_major": 2
            },
            "text/plain": [
              "HBox(children=(IntProgress(value=0, max=8), HTML(value='')))"
            ]
          },
          "metadata": {
            "tags": []
          }
        },
        {
          "output_type": "stream",
          "text": [
            "\n"
          ],
          "name": "stdout"
        }
      ]
    },
    {
      "cell_type": "markdown",
      "metadata": {
        "id": "o8g4_armKk2d",
        "colab_type": "text"
      },
      "source": [
        "Попробуем добавить ещё признаков, применив библиотеку pymorphy2 и проанализировав слова на соответствие некоторым категориям."
      ]
    },
    {
      "cell_type": "code",
      "metadata": {
        "ExecuteTime": {
          "end_time": "2020-04-28T17:18:40.683229Z",
          "start_time": "2020-04-28T17:14:51.915646Z"
        },
        "id": "Uuh6JBl8Kk2e",
        "colab_type": "code",
        "colab": {}
      },
      "source": [
        "morph = pymorphy2.MorphAnalyzer()\n",
        "\n",
        "def name_score(word):\n",
        "    for p in morph.parse(word):\n",
        "        if 'Name' in p.tag:\n",
        "            return p.score\n",
        "    return 0\n",
        "\n",
        "def surn_score(word):\n",
        "    for p in morph.parse(word):\n",
        "        if 'Surn' in p.tag:\n",
        "            return p.score\n",
        "    return 0\n",
        "\n",
        "df_for_w2v['pymorphy_word_is_known'] = df_for_w2v['surname'].apply(morph.word_is_known).astype('int8')\n",
        "df_for_w2v['pymorphy_count_in_tag'] = df_for_w2v['surname'].apply(lambda x: len(morph.tag(x))).astype('int8')\n",
        "df_for_w2v['pymorphy_score'] = df_for_w2v['surname'].apply(lambda x: morph.parse(x)[0].score)\n",
        "df_for_w2v['pymorphy'] = df_for_w2v['surname'].apply(lambda x: morph.tag(x)[0])\n",
        "\n",
        "df_for_w2v['pymorphy_animacy'] = df_for_w2v['pymorphy'].apply(lambda x: x.animacy)\n",
        "df_for_w2v['pymorphy_POS'] = df_for_w2v['pymorphy'].apply(lambda x: x.POS)\n",
        "df_for_w2v['pymorphy_case'] = df_for_w2v['pymorphy'].apply(lambda x: x.case)\n",
        "df_for_w2v['pymorphy_number'] = df_for_w2v['pymorphy'].apply(lambda x: x.number)\n",
        "df_for_w2v['pymorphy_gender'] = df_for_w2v['pymorphy'].apply(lambda x: x.gender)\n",
        "\n",
        "df_for_w2v['pymorphy_name_score'] = df_for_w2v['surname'].apply(name_score)\n",
        "df_for_w2v['pymorphy_surn_score'] = df_for_w2v['surname'].apply(surn_score)\n",
        "\n",
        "columns_to_one_hot = ['pymorphy' , 'pymorphy_animacy', 'pymorphy_POS', 'pymorphy_case','pymorphy_number', 'pymorphy_gender']\n",
        "\n",
        "for col in columns_to_one_hot:\n",
        "    df_for_w2v[col] = LabelEncoder().fit_transform(list(df_for_w2v[col].fillna('nan')))"
      ],
      "execution_count": 0,
      "outputs": []
    },
    {
      "cell_type": "markdown",
      "metadata": {
        "id": "uZPzK44ZKk2j",
        "colab_type": "text"
      },
      "source": [
        "## Признаки добавлены, теперь будем разделять выборку, чтобы строить модель."
      ]
    },
    {
      "cell_type": "markdown",
      "metadata": {
        "id": "JYutG1bLKk2m",
        "colab_type": "text"
      },
      "source": [
        "Разделим выборку на Train и Test и перемешаем, так как при генерации признаков все объекты были в одном датасете."
      ]
    },
    {
      "cell_type": "code",
      "metadata": {
        "ExecuteTime": {
          "end_time": "2020-04-28T17:18:41.473595Z",
          "start_time": "2020-04-28T17:18:40.685123Z"
        },
        "id": "P1Lag6UXKk2o",
        "colab_type": "code",
        "colab": {}
      },
      "source": [
        "df_1 = df_for_w2v[df_for_w2v['target']==1]\n",
        "df_0 = df_for_w2v[df_for_w2v['target']==0]\n",
        "df_without_1 = df_for_w2v[df_for_w2v['target'] != 1]\n",
        "df_test = df_without_1[df_without_1['target'] != 0]\n",
        "df_sorted_cut = pd.concat([df_1, df_0],\n",
        "                          ignore_index=True).sample(frac=1)"
      ],
      "execution_count": 0,
      "outputs": []
    },
    {
      "cell_type": "code",
      "metadata": {
        "ExecuteTime": {
          "end_time": "2020-04-28T17:18:41.660188Z",
          "start_time": "2020-04-28T17:18:41.475747Z"
        },
        "id": "wwbxSGuLKk2u",
        "colab_type": "code",
        "colab": {}
      },
      "source": [
        "features=list(df_sorted_cut.columns)[2:]\n",
        "\n",
        "train=df_sorted_cut\n",
        "train_full = df_sorted_cut[features]\n",
        "\n",
        "test_full = df_test[features]"
      ],
      "execution_count": 0,
      "outputs": []
    },
    {
      "cell_type": "markdown",
      "metadata": {
        "id": "VjNWxJXxKk26",
        "colab_type": "text"
      },
      "source": [
        "Выделим матрицу признаков и ответов:"
      ]
    },
    {
      "cell_type": "code",
      "metadata": {
        "ExecuteTime": {
          "end_time": "2020-04-28T17:18:41.785965Z",
          "start_time": "2020-04-28T17:18:41.662071Z"
        },
        "id": "LCfiuo49Kk27",
        "colab_type": "code",
        "colab": {}
      },
      "source": [
        "X =[]\n",
        "for name in features:\n",
        "    X.append(df_sorted_cut[name].values)\n",
        "X = np.array(X)\n",
        "X = np.transpose(X)\n",
        "y = df_sorted_cut['target'].values"
      ],
      "execution_count": 0,
      "outputs": []
    },
    {
      "cell_type": "markdown",
      "metadata": {
        "id": "noTnE4azKk3B",
        "colab_type": "text"
      },
      "source": [
        "Для оценки качества полученной модели разобъем Train на две подвыборки:"
      ]
    },
    {
      "cell_type": "code",
      "metadata": {
        "ExecuteTime": {
          "end_time": "2020-04-28T17:18:42.264844Z",
          "start_time": "2020-04-28T17:18:41.789248Z"
        },
        "id": "N66uda9LKk3D",
        "colab_type": "code",
        "colab": {}
      },
      "source": [
        "X_train, X_test, y_train, y_test = train_test_split(X,\n",
        "                                                    y,\n",
        "                                                    test_size=0.3,\n",
        "                                                    random_state=1)"
      ],
      "execution_count": 0,
      "outputs": []
    },
    {
      "cell_type": "markdown",
      "metadata": {
        "id": "qt8gntKBKk3O",
        "colab_type": "text"
      },
      "source": [
        "Попробуем определить базовый скор сначала при помощи простых алгоритмов машинного обучения"
      ]
    },
    {
      "cell_type": "markdown",
      "metadata": {
        "id": "TMSsJ3YnKk3P",
        "colab_type": "text"
      },
      "source": [
        "## Логистическая регрессия"
      ]
    },
    {
      "cell_type": "code",
      "metadata": {
        "ExecuteTime": {
          "end_time": "2020-04-28T16:14:08.480716Z",
          "start_time": "2020-04-28T16:14:08.477875Z"
        },
        "id": "iaR7_Ah_Kk3Q",
        "colab_type": "code",
        "colab": {}
      },
      "source": [
        "log_reg = LogisticRegression(penalty='l2', n_jobs=4, random_state=42,\n",
        "                             class_weight='balanced',\n",
        "                             C = 0.1, max_iter=50, solver='sag')"
      ],
      "execution_count": 0,
      "outputs": []
    },
    {
      "cell_type": "code",
      "metadata": {
        "ExecuteTime": {
          "end_time": "2020-04-28T16:14:20.656536Z",
          "start_time": "2020-04-28T16:14:08.482779Z"
        },
        "id": "QJFIQtS8Kk3Z",
        "colab_type": "code",
        "outputId": "c3f164c9-890b-48ac-defd-b65aacb82f6b",
        "colab": {}
      },
      "source": [
        "log_reg.fit(X_train, y_train)"
      ],
      "execution_count": 0,
      "outputs": [
        {
          "output_type": "execute_result",
          "data": {
            "text/plain": [
              "LogisticRegression(C=0.1, class_weight='balanced', dual=False,\n",
              "                   fit_intercept=True, intercept_scaling=1, l1_ratio=None,\n",
              "                   max_iter=50, multi_class='warn', n_jobs=4, penalty='l2',\n",
              "                   random_state=42, solver='sag', tol=0.0001, verbose=0,\n",
              "                   warm_start=False)"
            ]
          },
          "metadata": {
            "tags": []
          },
          "execution_count": 22
        }
      ]
    },
    {
      "cell_type": "code",
      "metadata": {
        "ExecuteTime": {
          "end_time": "2020-04-28T16:14:25.198790Z",
          "start_time": "2020-04-28T16:14:25.175966Z"
        },
        "id": "G3OfMN4GKk3f",
        "colab_type": "code",
        "colab": {}
      },
      "source": [
        "log_reg_predictions = log_reg.predict(X_test)"
      ],
      "execution_count": 0,
      "outputs": []
    },
    {
      "cell_type": "code",
      "metadata": {
        "ExecuteTime": {
          "end_time": "2020-04-28T16:14:25.608219Z",
          "start_time": "2020-04-28T16:14:25.595847Z"
        },
        "id": "ok-etGOHKk3l",
        "colab_type": "code",
        "outputId": "807232da-971c-48f9-eaa5-ede40bf58efb",
        "colab": {}
      },
      "source": [
        "metrics.roc_auc_score(y_test, log_reg_predictions)"
      ],
      "execution_count": 0,
      "outputs": [
        {
          "output_type": "execute_result",
          "data": {
            "text/plain": [
              "0.771265054689698"
            ]
          },
          "metadata": {
            "tags": []
          },
          "execution_count": 24
        }
      ]
    },
    {
      "cell_type": "markdown",
      "metadata": {
        "id": "AFWmtCbRKk3r",
        "colab_type": "text"
      },
      "source": [
        "Получили не такой уж плохой скор для логистической регрессии."
      ]
    },
    {
      "cell_type": "markdown",
      "metadata": {
        "id": "2eX09vFvKk3v",
        "colab_type": "text"
      },
      "source": [
        "## Random Forest"
      ]
    },
    {
      "cell_type": "code",
      "metadata": {
        "ExecuteTime": {
          "end_time": "2020-04-28T16:14:56.850432Z",
          "start_time": "2020-04-28T16:14:56.845380Z"
        },
        "id": "yaWPH1B6Kk3w",
        "colab_type": "code",
        "colab": {}
      },
      "source": [
        "rnd_frst = RandomForestClassifier(n_estimators=50, criterion='entropy')"
      ],
      "execution_count": 0,
      "outputs": []
    },
    {
      "cell_type": "code",
      "metadata": {
        "ExecuteTime": {
          "end_time": "2020-04-28T16:16:04.165482Z",
          "start_time": "2020-04-28T16:14:57.210072Z"
        },
        "id": "ZSyIsS4EKk33",
        "colab_type": "code",
        "outputId": "b1c4b114-9041-46ba-c030-07d7eb4a5295",
        "colab": {}
      },
      "source": [
        "rnd_frst.fit(X_train, y_train)"
      ],
      "execution_count": 0,
      "outputs": [
        {
          "output_type": "execute_result",
          "data": {
            "text/plain": [
              "RandomForestClassifier(bootstrap=True, class_weight=None, criterion='entropy',\n",
              "                       max_depth=None, max_features='auto', max_leaf_nodes=None,\n",
              "                       min_impurity_decrease=0.0, min_impurity_split=None,\n",
              "                       min_samples_leaf=1, min_samples_split=2,\n",
              "                       min_weight_fraction_leaf=0.0, n_estimators=50,\n",
              "                       n_jobs=None, oob_score=False, random_state=None,\n",
              "                       verbose=0, warm_start=False)"
            ]
          },
          "metadata": {
            "tags": []
          },
          "execution_count": 26
        }
      ]
    },
    {
      "cell_type": "code",
      "metadata": {
        "ExecuteTime": {
          "end_time": "2020-04-28T16:16:04.597403Z",
          "start_time": "2020-04-28T16:16:04.167822Z"
        },
        "id": "w1f8xl5mKk3_",
        "colab_type": "code",
        "colab": {}
      },
      "source": [
        "rnd_frst_predictions = rnd_frst.predict(X_test)"
      ],
      "execution_count": 0,
      "outputs": []
    },
    {
      "cell_type": "code",
      "metadata": {
        "ExecuteTime": {
          "end_time": "2020-04-28T16:16:04.616284Z",
          "start_time": "2020-04-28T16:16:04.600039Z"
        },
        "id": "Gci2joKrKk4F",
        "colab_type": "code",
        "outputId": "2267507a-ef24-42b6-e364-ed924eeb4f46",
        "colab": {}
      },
      "source": [
        "metrics.roc_auc_score(y_test, rnd_frst_predictions)"
      ],
      "execution_count": 0,
      "outputs": [
        {
          "output_type": "execute_result",
          "data": {
            "text/plain": [
              "0.7422724018933353"
            ]
          },
          "metadata": {
            "tags": []
          },
          "execution_count": 28
        }
      ]
    },
    {
      "cell_type": "markdown",
      "metadata": {
        "id": "uPtyfMGAKk4L",
        "colab_type": "text"
      },
      "source": [
        "Скор даже хуже, чем у лог. регрессии."
      ]
    },
    {
      "cell_type": "markdown",
      "metadata": {
        "id": "2WfdrcpmKk4N",
        "colab_type": "text"
      },
      "source": [
        "## Градиентные бустинги"
      ]
    },
    {
      "cell_type": "markdown",
      "metadata": {
        "id": "zJa1aFd9ZKue",
        "colab_type": "text"
      },
      "source": [
        "Попробуем 3 самые популярные библиотеки для построения градиентного бустинга над решающими деревьями."
      ]
    },
    {
      "cell_type": "code",
      "metadata": {
        "ExecuteTime": {
          "end_time": "2020-04-28T16:32:24.957708Z",
          "start_time": "2020-04-28T16:32:24.952554Z"
        },
        "id": "vUrEVxVDKk4n",
        "colab_type": "code",
        "colab": {}
      },
      "source": [
        "cat_features = np.where(train_full.dtypes == 'object')[0].tolist()"
      ],
      "execution_count": 0,
      "outputs": []
    },
    {
      "cell_type": "code",
      "metadata": {
        "ExecuteTime": {
          "end_time": "2020-04-28T17:18:42.272738Z",
          "start_time": "2020-04-28T17:18:42.266571Z"
        },
        "id": "EW5kUPqGKk4N",
        "colab_type": "code",
        "colab": {}
      },
      "source": [
        "lgbm_cl = LGBMClassifier(n_estimators=670, num_leaves=65, max_depth=40)\n",
        "xgb_cl = XGBClassifier(n_jobs =4, max_depth = 10 , n_estimators=670 , learning_rate=0.09 , colsample_bytree=0.9 , colsample_bylevel=0.6)\n",
        "ctb = CatBoostClassifier(random_seed=17, iterations=2000, loss_function='CrossEntropy', eval_metric='AUC')"
      ],
      "execution_count": 0,
      "outputs": []
    },
    {
      "cell_type": "code",
      "metadata": {
        "ExecuteTime": {
          "end_time": "2020-04-28T17:37:24.515385Z",
          "start_time": "2020-04-28T17:18:42.275511Z"
        },
        "id": "DFm_HR0fKk4T",
        "colab_type": "code",
        "colab": {}
      },
      "source": [
        "lgbm_cl.fit(X_train, y_train)\n",
        "xgb_cl.fit(X_train, y_train)\n",
        "ctb.fit(train_full, train['target'], cat_features=cat_features);"
      ],
      "execution_count": 0,
      "outputs": []
    },
    {
      "cell_type": "code",
      "metadata": {
        "ExecuteTime": {
          "end_time": "2020-04-28T17:37:26.985645Z",
          "start_time": "2020-04-28T17:37:24.518081Z"
        },
        "id": "bMXIMNIXKk4Z",
        "colab_type": "code",
        "colab": {}
      },
      "source": [
        "lgbm_cl_predictions = lgbm_cl.predict_proba(X_test)\n",
        "xgb_cl_predictions = xgb_cl.predict_proba(X_test)\n",
        "ctb_cl_predictions = ctb.predict_proba(X_test)"
      ],
      "execution_count": 0,
      "outputs": []
    },
    {
      "cell_type": "code",
      "metadata": {
        "ExecuteTime": {
          "end_time": "2020-04-28T17:37:27.081993Z",
          "start_time": "2020-04-28T17:37:27.013308Z"
        },
        "id": "NhFCdtslKk4e",
        "colab_type": "code",
        "outputId": "2766bbc5-248f-4868-8884-6b3de71920f6",
        "colab": {
          "base_uri": "https://localhost:8080/",
          "height": 69
        }
      },
      "source": [
        "print(metrics.roc_auc_score(y_test, lgbm_cl_predictions[:,1]))\n",
        "print(metrics.roc_auc_score(y_test, xgb_cl_predictions[:,1]))\n",
        "print(metrics.roc_auc_score(y_test, ctb_cl_predictions[:,1]))"
      ],
      "execution_count": 0,
      "outputs": [
        {
          "output_type": "stream",
          "text": [
            "0.9455420921412435\n",
            "0.9471737344833157\n",
            "0.9769571956671415\n"
          ],
          "name": "stdout"
        }
      ]
    },
    {
      "cell_type": "markdown",
      "metadata": {
        "id": "0rSI_bLwKk4l",
        "colab_type": "text"
      },
      "source": [
        "Видно, что Catboost показывает лучший результат, поэтому будем далее использовать его."
      ]
    },
    {
      "cell_type": "markdown",
      "metadata": {
        "id": "TTVXQGhNKk5M",
        "colab_type": "text"
      },
      "source": [
        "## Проверим результаты на кросс-валидации"
      ]
    },
    {
      "cell_type": "code",
      "metadata": {
        "ExecuteTime": {
          "end_time": "2020-04-28T17:38:38.749502Z",
          "start_time": "2020-04-28T17:38:38.744765Z"
        },
        "id": "r8iCixJuKk5O",
        "colab_type": "code",
        "colab": {}
      },
      "source": [
        "def validate_xgb(x , y):\n",
        "    model = XGBClassifier(n_jobs=4,max_depth = 10 , n_estimators=670 , learning_rate=0.09 , colsample_bytree=0.9 , colsample_bylevel=0.6)\n",
        "    cv = StratifiedKFold(4 ,shuffle=True, random_state=99)\n",
        "    score = cross_val_score(model , x , y , scoring='roc_auc' , cv=cv)\n",
        "    print (score.mean() , score.std() , '\\n')"
      ],
      "execution_count": 0,
      "outputs": []
    },
    {
      "cell_type": "code",
      "metadata": {
        "id": "BHG-9e_-Zuqq",
        "colab_type": "code",
        "colab": {}
      },
      "source": [
        "def validate_ctb(x , y):\n",
        "  model = CatBoostClassifier(random_seed=17, iterations=2000, loss_function='CrossEntropy', eval_metric='AUC', silent=True)\n",
        "  cv = StratifiedKFold(4 ,shuffle=True, random_state=99)\n",
        "  score = cross_val_score(model , x , y , scoring='roc_auc' , cv=cv)\n",
        "  print (score.mean() , score.std() , '\\n')"
      ],
      "execution_count": 0,
      "outputs": []
    },
    {
      "cell_type": "code",
      "metadata": {
        "ExecuteTime": {
          "end_time": "2020-04-28T18:22:47.228619Z",
          "start_time": "2020-04-28T17:38:43.927917Z"
        },
        "id": "D0W5_tsHKk5V",
        "colab_type": "code",
        "outputId": "92c6c9ad-82db-4b08-a791-733870765aba",
        "colab": {
          "base_uri": "https://localhost:8080/",
          "height": 52
        }
      },
      "source": [
        "validate_ctb(X, y)"
      ],
      "execution_count": 0,
      "outputs": [
        {
          "output_type": "stream",
          "text": [
            "0.952162849206362 0.0014979998972925233 \n",
            "\n"
          ],
          "name": "stdout"
        }
      ]
    },
    {
      "cell_type": "markdown",
      "metadata": {
        "id": "gdh14lvBkq9O",
        "colab_type": "text"
      },
      "source": [
        "Результат на кросс-валидации не стал сильно хуже, что говорит о том, что модель не переобучена и всё хорошо."
      ]
    },
    {
      "cell_type": "markdown",
      "metadata": {
        "id": "sFpFCg7eKk5Z",
        "colab_type": "text"
      },
      "source": [
        "# Запишем файл ответов"
      ]
    },
    {
      "cell_type": "code",
      "metadata": {
        "ExecuteTime": {
          "end_time": "2019-12-01T09:03:52.471110Z",
          "start_time": "2019-12-01T09:03:52.137942Z"
        },
        "id": "vrk-kmEHKk5a",
        "colab_type": "code",
        "colab": {}
      },
      "source": [
        "with open('xgb_boost_cv_proba_0.txt', 'w', encoding='utf8') as file_handler:\n",
        "    file_handler.write('Id,Answer\\n')\n",
        "    for i in range(len(test_predictions_ans)):\n",
        "        file_handler.write(str(i)+','+str(test_predictions_ans[i])+'\\n')\n",
        "file_handler.close()"
      ],
      "execution_count": 0,
      "outputs": []
    },
    {
      "cell_type": "code",
      "metadata": {
        "ExecuteTime": {
          "end_time": "2019-12-01T20:55:57.496452Z",
          "start_time": "2019-12-01T20:55:56.431912Z"
        },
        "id": "-tI8ShirKk5f",
        "colab_type": "code",
        "colab": {}
      },
      "source": [
        "sub = pd.read_csv('linear_ans_example.txt')\n",
        "sub = sub.reset_index(drop=True)\n",
        "sub['Answer'] = ctb.predict_proba(test_full)[:,1]\n",
        "sub.to_csv('n_3__w2v_200__sg_1__2k_iters_so_manyy_dop_features.txt', columns=['Id', 'Answer'], index=False)"
      ],
      "execution_count": 0,
      "outputs": []
    }
  ]
}